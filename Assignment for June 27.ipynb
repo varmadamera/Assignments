{
 "cells": [
  {
   "cell_type": "code",
   "execution_count": 3,
   "id": "7669d201-e075-473b-b535-325f6fb570b0",
   "metadata": {},
   "outputs": [],
   "source": [
    "import pandas as pd\n",
    "import numpy as np\n",
    "import matplotlib.pyplot as plt\n",
    "import os"
   ]
  },
  {
   "cell_type": "code",
   "execution_count": 4,
   "id": "3e94a197-fc0a-42ff-9f4c-9aadec1542f5",
   "metadata": {},
   "outputs": [
    {
     "data": {
      "text/plain": [
       "'C:\\\\Users\\\\vkdamera'"
      ]
     },
     "execution_count": 4,
     "metadata": {},
     "output_type": "execute_result"
    }
   ],
   "source": [
    "os.getcwd()\n"
   ]
  },
  {
   "cell_type": "code",
   "execution_count": 5,
   "id": "40f7d110-e4a4-4566-815a-74e6ea5e5c14",
   "metadata": {},
   "outputs": [],
   "source": [
    "os.chdir('C:\\\\Users\\\\vkdamera\\\\Downloads\\\\Batch 98 Day 27\\\\Batch 98 Day 27\\\\CS 18 Ans -Data Transformation-4\\\\')"
   ]
  },
  {
   "cell_type": "code",
   "execution_count": 6,
   "id": "7b12a5e5-7062-4bcd-8c29-17cc04e8d38a",
   "metadata": {},
   "outputs": [
    {
     "data": {
      "text/html": [
       "<div>\n",
       "<style scoped>\n",
       "    .dataframe tbody tr th:only-of-type {\n",
       "        vertical-align: middle;\n",
       "    }\n",
       "\n",
       "    .dataframe tbody tr th {\n",
       "        vertical-align: top;\n",
       "    }\n",
       "\n",
       "    .dataframe thead th {\n",
       "        text-align: right;\n",
       "    }\n",
       "</style>\n",
       "<table border=\"1\" class=\"dataframe\">\n",
       "  <thead>\n",
       "    <tr style=\"text-align: right;\">\n",
       "      <th></th>\n",
       "      <th>InvoiceNo</th>\n",
       "      <th>StockCode</th>\n",
       "      <th>Description</th>\n",
       "      <th>Quantity</th>\n",
       "      <th>UnitPrice</th>\n",
       "      <th>Amount</th>\n",
       "      <th>InvoiceDate</th>\n",
       "      <th>Day</th>\n",
       "      <th>Month</th>\n",
       "      <th>Year</th>\n",
       "      <th>CustomerID</th>\n",
       "      <th>Country</th>\n",
       "    </tr>\n",
       "  </thead>\n",
       "  <tbody>\n",
       "    <tr>\n",
       "      <th>0</th>\n",
       "      <td>536365</td>\n",
       "      <td>85123A</td>\n",
       "      <td>WHITE HANGING HEART T-LIGHT HOLDER</td>\n",
       "      <td>6</td>\n",
       "      <td>2.55</td>\n",
       "      <td>15.30</td>\n",
       "      <td>01-12-10</td>\n",
       "      <td>1</td>\n",
       "      <td>12</td>\n",
       "      <td>2010</td>\n",
       "      <td>17850.0</td>\n",
       "      <td>United Kingdom</td>\n",
       "    </tr>\n",
       "    <tr>\n",
       "      <th>1</th>\n",
       "      <td>536365</td>\n",
       "      <td>71053</td>\n",
       "      <td>WHITE METAL LANTERN</td>\n",
       "      <td>6</td>\n",
       "      <td>3.39</td>\n",
       "      <td>20.34</td>\n",
       "      <td>01-12-10</td>\n",
       "      <td>1</td>\n",
       "      <td>12</td>\n",
       "      <td>2010</td>\n",
       "      <td>17850.0</td>\n",
       "      <td>United Kingdom</td>\n",
       "    </tr>\n",
       "    <tr>\n",
       "      <th>2</th>\n",
       "      <td>536365</td>\n",
       "      <td>84406B</td>\n",
       "      <td>CREAM CUPID HEARTS COAT HANGER</td>\n",
       "      <td>8</td>\n",
       "      <td>2.75</td>\n",
       "      <td>22.00</td>\n",
       "      <td>01-12-10</td>\n",
       "      <td>1</td>\n",
       "      <td>12</td>\n",
       "      <td>2010</td>\n",
       "      <td>17850.0</td>\n",
       "      <td>United Kingdom</td>\n",
       "    </tr>\n",
       "    <tr>\n",
       "      <th>3</th>\n",
       "      <td>536365</td>\n",
       "      <td>84029G</td>\n",
       "      <td>KNITTED UNION FLAG HOT WATER BOTTLE</td>\n",
       "      <td>6</td>\n",
       "      <td>3.39</td>\n",
       "      <td>20.34</td>\n",
       "      <td>01-12-10</td>\n",
       "      <td>1</td>\n",
       "      <td>12</td>\n",
       "      <td>2010</td>\n",
       "      <td>17850.0</td>\n",
       "      <td>United Kingdom</td>\n",
       "    </tr>\n",
       "    <tr>\n",
       "      <th>4</th>\n",
       "      <td>536365</td>\n",
       "      <td>84029E</td>\n",
       "      <td>RED WOOLLY HOTTIE WHITE HEART.</td>\n",
       "      <td>6</td>\n",
       "      <td>3.39</td>\n",
       "      <td>20.34</td>\n",
       "      <td>01-12-10</td>\n",
       "      <td>1</td>\n",
       "      <td>12</td>\n",
       "      <td>2010</td>\n",
       "      <td>17850.0</td>\n",
       "      <td>United Kingdom</td>\n",
       "    </tr>\n",
       "    <tr>\n",
       "      <th>...</th>\n",
       "      <td>...</td>\n",
       "      <td>...</td>\n",
       "      <td>...</td>\n",
       "      <td>...</td>\n",
       "      <td>...</td>\n",
       "      <td>...</td>\n",
       "      <td>...</td>\n",
       "      <td>...</td>\n",
       "      <td>...</td>\n",
       "      <td>...</td>\n",
       "      <td>...</td>\n",
       "      <td>...</td>\n",
       "    </tr>\n",
       "    <tr>\n",
       "      <th>541869</th>\n",
       "      <td>581587</td>\n",
       "      <td>22613</td>\n",
       "      <td>PACK OF 20 SPACEBOY NAPKINS</td>\n",
       "      <td>12</td>\n",
       "      <td>0.85</td>\n",
       "      <td>10.20</td>\n",
       "      <td>09-12-11</td>\n",
       "      <td>9</td>\n",
       "      <td>12</td>\n",
       "      <td>2011</td>\n",
       "      <td>12680.0</td>\n",
       "      <td>France</td>\n",
       "    </tr>\n",
       "    <tr>\n",
       "      <th>541870</th>\n",
       "      <td>581587</td>\n",
       "      <td>22899</td>\n",
       "      <td>CHILDREN'S APRON DOLLY GIRL</td>\n",
       "      <td>6</td>\n",
       "      <td>2.10</td>\n",
       "      <td>12.60</td>\n",
       "      <td>09-12-11</td>\n",
       "      <td>9</td>\n",
       "      <td>12</td>\n",
       "      <td>2011</td>\n",
       "      <td>12680.0</td>\n",
       "      <td>France</td>\n",
       "    </tr>\n",
       "    <tr>\n",
       "      <th>541871</th>\n",
       "      <td>581587</td>\n",
       "      <td>23254</td>\n",
       "      <td>CHILDRENS CUTLERY DOLLY GIRL</td>\n",
       "      <td>4</td>\n",
       "      <td>4.15</td>\n",
       "      <td>16.60</td>\n",
       "      <td>09-12-11</td>\n",
       "      <td>9</td>\n",
       "      <td>12</td>\n",
       "      <td>2011</td>\n",
       "      <td>12680.0</td>\n",
       "      <td>France</td>\n",
       "    </tr>\n",
       "    <tr>\n",
       "      <th>541872</th>\n",
       "      <td>581587</td>\n",
       "      <td>23255</td>\n",
       "      <td>CHILDRENS CUTLERY CIRCUS PARADE</td>\n",
       "      <td>4</td>\n",
       "      <td>4.15</td>\n",
       "      <td>16.60</td>\n",
       "      <td>09-12-11</td>\n",
       "      <td>9</td>\n",
       "      <td>12</td>\n",
       "      <td>2011</td>\n",
       "      <td>12680.0</td>\n",
       "      <td>France</td>\n",
       "    </tr>\n",
       "    <tr>\n",
       "      <th>541873</th>\n",
       "      <td>581587</td>\n",
       "      <td>22138</td>\n",
       "      <td>BAKING SET 9 PIECE RETROSPOT</td>\n",
       "      <td>3</td>\n",
       "      <td>4.95</td>\n",
       "      <td>14.85</td>\n",
       "      <td>09-12-11</td>\n",
       "      <td>9</td>\n",
       "      <td>12</td>\n",
       "      <td>2011</td>\n",
       "      <td>12680.0</td>\n",
       "      <td>France</td>\n",
       "    </tr>\n",
       "  </tbody>\n",
       "</table>\n",
       "<p>541874 rows × 12 columns</p>\n",
       "</div>"
      ],
      "text/plain": [
       "       InvoiceNo StockCode                          Description  Quantity  \\\n",
       "0         536365    85123A   WHITE HANGING HEART T-LIGHT HOLDER         6   \n",
       "1         536365     71053                  WHITE METAL LANTERN         6   \n",
       "2         536365    84406B       CREAM CUPID HEARTS COAT HANGER         8   \n",
       "3         536365    84029G  KNITTED UNION FLAG HOT WATER BOTTLE         6   \n",
       "4         536365    84029E       RED WOOLLY HOTTIE WHITE HEART.         6   \n",
       "...          ...       ...                                  ...       ...   \n",
       "541869    581587     22613          PACK OF 20 SPACEBOY NAPKINS        12   \n",
       "541870    581587     22899         CHILDREN'S APRON DOLLY GIRL          6   \n",
       "541871    581587     23254        CHILDRENS CUTLERY DOLLY GIRL          4   \n",
       "541872    581587     23255      CHILDRENS CUTLERY CIRCUS PARADE         4   \n",
       "541873    581587     22138        BAKING SET 9 PIECE RETROSPOT          3   \n",
       "\n",
       "        UnitPrice  Amount InvoiceDate  Day  Month  Year  CustomerID  \\\n",
       "0            2.55   15.30    01-12-10    1     12  2010     17850.0   \n",
       "1            3.39   20.34    01-12-10    1     12  2010     17850.0   \n",
       "2            2.75   22.00    01-12-10    1     12  2010     17850.0   \n",
       "3            3.39   20.34    01-12-10    1     12  2010     17850.0   \n",
       "4            3.39   20.34    01-12-10    1     12  2010     17850.0   \n",
       "...           ...     ...         ...  ...    ...   ...         ...   \n",
       "541869       0.85   10.20    09-12-11    9     12  2011     12680.0   \n",
       "541870       2.10   12.60    09-12-11    9     12  2011     12680.0   \n",
       "541871       4.15   16.60    09-12-11    9     12  2011     12680.0   \n",
       "541872       4.15   16.60    09-12-11    9     12  2011     12680.0   \n",
       "541873       4.95   14.85    09-12-11    9     12  2011     12680.0   \n",
       "\n",
       "               Country  \n",
       "0       United Kingdom  \n",
       "1       United Kingdom  \n",
       "2       United Kingdom  \n",
       "3       United Kingdom  \n",
       "4       United Kingdom  \n",
       "...                ...  \n",
       "541869          France  \n",
       "541870          France  \n",
       "541871          France  \n",
       "541872          France  \n",
       "541873          France  \n",
       "\n",
       "[541874 rows x 12 columns]"
      ]
     },
     "execution_count": 6,
     "metadata": {},
     "output_type": "execute_result"
    }
   ],
   "source": [
    "sales_data = pd.read_csv('BigMartSalesData.csv')\n",
    "sales_data"
   ]
  },
  {
   "cell_type": "code",
   "execution_count": 7,
   "id": "24a20417-623a-4c21-aa58-fcf02148efe2",
   "metadata": {},
   "outputs": [
    {
     "name": "stdout",
     "output_type": "stream",
     "text": [
      "<class 'pandas.core.frame.DataFrame'>\n",
      "RangeIndex: 541874 entries, 0 to 541873\n",
      "Data columns (total 12 columns):\n",
      " #   Column       Non-Null Count   Dtype  \n",
      "---  ------       --------------   -----  \n",
      " 0   InvoiceNo    541874 non-null  object \n",
      " 1   StockCode    541874 non-null  object \n",
      " 2   Description  540422 non-null  object \n",
      " 3   Quantity     541874 non-null  int64  \n",
      " 4   UnitPrice    541874 non-null  float64\n",
      " 5   Amount       541874 non-null  float64\n",
      " 6   InvoiceDate  541874 non-null  object \n",
      " 7   Day          541874 non-null  int64  \n",
      " 8   Month        541874 non-null  int64  \n",
      " 9   Year         541874 non-null  int64  \n",
      " 10  CustomerID   406829 non-null  float64\n",
      " 11  Country      541874 non-null  object \n",
      "dtypes: float64(3), int64(4), object(5)\n",
      "memory usage: 49.6+ MB\n",
      "None\n"
     ]
    }
   ],
   "source": [
    "print(sales_data.info())"
   ]
  },
  {
   "cell_type": "code",
   "execution_count": 8,
   "id": "e7796769-26aa-4d18-a53f-beacfd6dd3c0",
   "metadata": {},
   "outputs": [
    {
     "name": "stdout",
     "output_type": "stream",
     "text": [
      " Getting Sales Data for Year 2011\n",
      " getting Amount for Each Month\n",
      "Month\n",
      "1      822669.640\n",
      "2      549134.460\n",
      "3      752003.310\n",
      "4      582318.451\n",
      "5      817655.200\n",
      "6      832231.670\n",
      "7      757108.941\n",
      "8      791173.020\n",
      "9     1097467.722\n",
      "10    1239237.260\n",
      "11    1557236.410\n",
      "12     843909.020\n",
      "Name: Amount, dtype: float64\n"
     ]
    }
   ],
   "source": [
    "# Get Sales for the Year 2011\n",
    "print (\" Getting Sales Data for Year 2011\")\n",
    "sales_2011 = sales_data[sales_data['Year'] == 2011]\n",
    "print (\" getting Amount for Each Month\")\n",
    "sales_2011_month = sales_2011.groupby('Month').sum()['Amount']\n",
    "print(sales_2011_month)"
   ]
  },
  {
   "cell_type": "code",
   "execution_count": 9,
   "id": "c816cc41-a10f-42d0-b07d-a353da10bde9",
   "metadata": {},
   "outputs": [
    {
     "data": {
      "image/png": "[encoded data removed]",
      "text/plain": [
       "<Figure size 2000x1000 with 1 Axes>"
      ]
     },
     "metadata": {},
     "output_type": "display_data"
    },
    {
     "data": {
      "text/plain": [
       "<Figure size 2000x1000 with 0 Axes>"
      ]
     },
     "metadata": {},
     "output_type": "display_data"
    }
   ],
   "source": [
    "plt.rcParams[\"figure.figsize\"] = (20,10)\n",
    "# Simply Plot the Sales Data for 2011 , X Axis Sales for each month, Y -Axis Month Number\n",
    "plt.plot(sales_2011_month.index,sales_2011_month.values)\n",
    "plt.xlabel(\"Sales in Euro\")\n",
    "plt.ylabel(\"Month Number\")\n",
    "plt.title(\"Sales Per Month in Year 2011\")\n",
    "plt.show()\n",
    "\n",
    "# Save the Plot Locally\n",
    "plt.savefig(\"Year2011MonthWiseSales\")"
   ]
  },
  {
   "cell_type": "code",
   "execution_count": 10,
   "id": "3dbad8d8-737d-4996-bec0-6275b9f18818",
   "metadata": {},
   "outputs": [
    {
     "data": {
      "image/png": "[encoded data removed]",
      "text/plain": [
       "<Figure size 2000x1000 with 1 Axes>"
      ]
     },
     "metadata": {},
     "output_type": "display_data"
    }
   ],
   "source": [
    "plt.bar(sales_2011_month.index,sales_2011_month.values,color=\"red\") # Change the color and play\n",
    "plt.xlabel(\"Sales in Euro\")\n",
    "plt.ylabel(\"Month Number\")\n",
    "plt.title(\"Sales Per Month in Year 2011\")\n",
    "plt.show()"
   ]
  },
  {
   "cell_type": "code",
   "execution_count": null,
   "id": "dc469528-3570-4e0f-a83b-b8b8d4152979",
   "metadata": {},
   "outputs": [],
   "source": [
    "sales_country_wise = sales_2011.groupby('Country').sum()['Amount']\n",
    "plt.title(\"Country Wise Contribution For 2011\")\n",
    "plt.pie(sales_country_wise.values,labels=sales_country_wise.index,autopct='%1.1f%%')\n",
    "plt.show()"
   ]
  },
  {
   "cell_type": "code",
   "execution_count": null,
   "id": "4786c757-ec84-4991-8be7-0c1677ef4d53",
   "metadata": {},
   "outputs": [],
   "source": [
    "sales_invoice_wise = sales_2011.groupby('InvoiceNo').sum()['Amount']\n",
    "print(sales_invoice_wise)"
   ]
  },
  {
   "cell_type": "code",
   "execution_count": null,
   "id": "2d603190-30ea-4dac-8391-ccb1fc6e291d",
   "metadata": {},
   "outputs": [],
   "source": [
    "plt.scatter(sales_invoice_wise.values,sales_invoice_wise.values)\n",
    "plt.grid(True)\n",
    "plt.show()"
   ]
  },
  {
   "cell_type": "code",
   "execution_count": null,
   "id": "bccc5100-9236-4a7f-8605-ae3a79a31e82",
   "metadata": {},
   "outputs": [],
   "source": []
  },
  {
   "cell_type": "code",
   "execution_count": null,
   "id": "499a8e77-e843-4cdb-8566-c2641f645677",
   "metadata": {},
   "outputs": [],
   "source": []
  },
  {
   "cell_type": "code",
   "execution_count": null,
   "id": "94986c7f-5f1a-4607-95ca-1039ed8228d3",
   "metadata": {},
   "outputs": [],
   "source": []
  },
  {
   "cell_type": "code",
   "execution_count": null,
   "id": "2e3a4575-30e2-4e46-bd72-f5e6ea9e6384",
   "metadata": {},
   "outputs": [],
   "source": []
  },
  {
   "cell_type": "code",
   "execution_count": null,
   "id": "bf207b1d-33c1-4ca4-ab3e-2c3a03a54605",
   "metadata": {},
   "outputs": [],
   "source": []
  },
  {
   "cell_type": "code",
   "execution_count": null,
   "id": "647edc16-0d6f-4338-ab25-0dfac64df391",
   "metadata": {},
   "outputs": [],
   "source": []
  },
  {
   "cell_type": "code",
   "execution_count": null,
   "id": "f30471fe-0f5a-4781-bf33-d653e089b972",
   "metadata": {},
   "outputs": [],
   "source": []
  },
  {
   "cell_type": "code",
   "execution_count": null,
   "id": "ab72da3f-6135-4a0c-90be-2fe13d0c6813",
   "metadata": {},
   "outputs": [],
   "source": []
  },
  {
   "cell_type": "code",
   "execution_count": null,
   "id": "6ac0a49f-a071-4c83-bf51-8e83faed1678",
   "metadata": {},
   "outputs": [],
   "source": []
  },
  {
   "cell_type": "code",
   "execution_count": null,
   "id": "b278d6d5-69ec-4387-910f-5f226245f948",
   "metadata": {},
   "outputs": [],
   "source": []
  },
  {
   "cell_type": "code",
   "execution_count": null,
   "id": "a46fd717-2f1d-4742-bf3e-bdde771997a4",
   "metadata": {},
   "outputs": [],
   "source": []
  },
  {
   "cell_type": "code",
   "execution_count": null,
   "id": "a70b2658-9ca3-4168-ad29-e2d5432b9559",
   "metadata": {},
   "outputs": [],
   "source": []
  },
  {
   "cell_type": "code",
   "execution_count": null,
   "id": "fd824bbd-3552-4034-9637-bb720ecd189c",
   "metadata": {},
   "outputs": [],
   "source": []
  },
  {
   "cell_type": "code",
   "execution_count": null,
   "id": "280693cd-7987-484f-86c1-33eb92e1670d",
   "metadata": {},
   "outputs": [],
   "source": []
  },
  {
   "cell_type": "code",
   "execution_count": null,
   "id": "9d859e8e-0275-43fa-b910-f21756f85dfd",
   "metadata": {},
   "outputs": [],
   "source": []
  },
  {
   "cell_type": "code",
   "execution_count": null,
   "id": "67a0984b-06c5-43bd-9907-54eb9e5988bb",
   "metadata": {},
   "outputs": [],
   "source": []
  },
  {
   "cell_type": "code",
   "execution_count": null,
   "id": "9e389cc8-dd34-4775-b99a-e2cb865621cf",
   "metadata": {},
   "outputs": [],
   "source": []
  },
  {
   "cell_type": "code",
   "execution_count": null,
   "id": "5df82868-49ef-4d86-8dfe-e635066f1a8f",
   "metadata": {},
   "outputs": [],
   "source": []
  },
  {
   "cell_type": "code",
   "execution_count": null,
   "id": "67dfdf35-4f9e-4788-98b4-bb1f73e403ec",
   "metadata": {},
   "outputs": [],
   "source": []
  },
  {
   "cell_type": "code",
   "execution_count": null,
   "id": "f75b2893-8459-4115-9959-68ebb5696acf",
   "metadata": {},
   "outputs": [],
   "source": []
  },
  {
   "cell_type": "code",
   "execution_count": null,
   "id": "0fd8fa35-d747-4330-b5e9-04889faa82a3",
   "metadata": {},
   "outputs": [],
   "source": []
  },
  {
   "cell_type": "code",
   "execution_count": null,
   "id": "527e2451-961b-489a-aafe-548ab8067a59",
   "metadata": {},
   "outputs": [],
   "source": []
  },
  {
   "cell_type": "code",
   "execution_count": null,
   "id": "30c4093f-ed61-4c43-a474-1d29e4ed29fe",
   "metadata": {},
   "outputs": [],
   "source": []
  },
  {
   "cell_type": "code",
   "execution_count": null,
   "id": "d043e8fe-3035-4853-a65f-0cc18c4b4710",
   "metadata": {},
   "outputs": [],
   "source": []
  },
  {
   "cell_type": "code",
   "execution_count": null,
   "id": "63384113-e0ee-4c03-957a-882ab09c5e9b",
   "metadata": {},
   "outputs": [],
   "source": []
  },
  {
   "cell_type": "code",
   "execution_count": null,
   "id": "81762dfe-a87c-4ff7-a5fd-10b83c2c26a4",
   "metadata": {},
   "outputs": [],
   "source": []
  }
 ],
 "metadata": {
  "kernelspec": {
   "display_name": "Python 3 (ipykernel)",
   "language": "python",
   "name": "python3"
  },
  "language_info": {
   "codemirror_mode": {
    "name": "ipython",
    "version": 3
   },
   "file_extension": ".py",
   "mimetype": "text/x-python",
   "name": "python",
   "nbconvert_exporter": "python",
   "pygments_lexer": "ipython3",
   "version": "3.12.4"
  }
 },
 "nbformat": 4,
 "nbformat_minor": 5
}
