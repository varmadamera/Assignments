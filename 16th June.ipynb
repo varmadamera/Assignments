{
 "cells": [
  {
   "cell_type": "code",
   "execution_count": 2,
   "id": "9336a262-d7a4-4aa4-bc6d-fc2e53057ab6",
   "metadata": {},
   "outputs": [],
   "source": [
    "import numpy as np\n",
    "import pandas as pd\n",
    "import matplotlib.pyplot as plt\n",
    "import seaborn as sns\n",
    "import os\n"
   ]
  },
  {
   "cell_type": "code",
   "execution_count": 3,
   "id": "7adb9460-90a6-4cee-b6fe-10b125d95941",
   "metadata": {},
   "outputs": [
    {
     "data": {
      "text/plain": [
       "'C:\\\\Users\\\\vkdamera'"
      ]
     },
     "execution_count": 3,
     "metadata": {},
     "output_type": "execute_result"
    }
   ],
   "source": [
    "pwd"
   ]
  },
  {
   "cell_type": "code",
   "execution_count": 4,
   "id": "6cf0777f-8cba-4dcf-9d9c-2105596d8f44",
   "metadata": {},
   "outputs": [],
   "source": [
    "os.chdir('C:\\\\Users\\\\vkdamera\\\\Downloads\\\\Batch 98 Day 25\\\\Batch 98 Day 25\\\\Data Preprocessing\\\\')"
   ]
  },
  {
   "cell_type": "code",
   "execution_count": 5,
   "id": "5066b41e-f595-4c03-88bc-05166d51d04e",
   "metadata": {},
   "outputs": [
    {
     "name": "stdout",
     "output_type": "stream",
     "text": [
      "   Country   Age   Salary  Purchased \n",
      "0   France   44.0  72000.0         No\n",
      "1       NaN  27.0  48000.0        Yes\n",
      "2  Germany    NaN  54000.0         No\n",
      "3    Spain   39.0      NaN         No\n",
      "4  Germany    NaN  64000.0        Yes\n",
      "5   France   35.0  58000.0        Yes\n",
      "6    Spain   39.0  52000.0         No\n",
      "7   France   48.0      NaN        Yes\n",
      "8  Germany   50.0  83000.0         No\n",
      "9   France   37.0  67000.0        Yes\n"
     ]
    }
   ],
   "source": [
    "df1 = pd.read_excel (\"Data Preprocessing Data File.xlsx\")\t\n",
    "print (df1)\n"
   ]
  },
  {
   "cell_type": "code",
   "execution_count": 6,
   "id": "91cc309b-59e6-4c55-b79c-456be415ce34",
   "metadata": {},
   "outputs": [
    {
     "data": {
      "text/plain": [
       "array([['France ', 44.0, 72000.0],\n",
       "       [nan, 27.0, 48000.0],\n",
       "       ['Germany ', nan, 54000.0],\n",
       "       ['Spain ', 39.0, nan],\n",
       "       ['Germany ', nan, 64000.0],\n",
       "       ['France ', 35.0, 58000.0],\n",
       "       ['Spain ', 39.0, 52000.0],\n",
       "       ['France ', 48.0, nan],\n",
       "       ['Germany ', 50.0, 83000.0],\n",
       "       ['France ', 37.0, 67000.0]], dtype=object)"
      ]
     },
     "execution_count": 6,
     "metadata": {},
     "output_type": "execute_result"
    }
   ],
   "source": [
    "x = df1.iloc [:,:-1].values\n",
    "x"
   ]
  },
  {
   "cell_type": "code",
   "execution_count": 7,
   "id": "11ec452f-6ddf-4bf7-9a9e-73b03a8fec3a",
   "metadata": {},
   "outputs": [
    {
     "data": {
      "text/plain": [
       "array(['No', 'Yes', 'No', 'No', 'Yes', 'Yes', 'No', 'Yes', 'No', 'Yes'],\n",
       "      dtype=object)"
      ]
     },
     "execution_count": 7,
     "metadata": {},
     "output_type": "execute_result"
    }
   ],
   "source": [
    "y= df1.iloc [:,-1].values\n",
    "y"
   ]
  },
  {
   "cell_type": "code",
   "execution_count": 8,
   "id": "76eea376-53e2-492a-8166-780c0337863e",
   "metadata": {},
   "outputs": [
    {
     "data": {
      "text/plain": [
       "array(['No', 'Yes', 'No', 'No', 'Yes', 'Yes', 'No', 'Yes', 'No', 'Yes'],\n",
       "      dtype=object)"
      ]
     },
     "execution_count": 8,
     "metadata": {},
     "output_type": "execute_result"
    }
   ],
   "source": [
    "y= df1.iloc [:,3].values\n",
    "y"
   ]
  },
  {
   "cell_type": "code",
   "execution_count": 9,
   "id": "9266ca92-7fc0-4ceb-a958-8582201a993e",
   "metadata": {},
   "outputs": [
    {
     "data": {
      "text/plain": [
       "array([['France ', 44.0, 72000.0],\n",
       "       [nan, 27.0, 48000.0],\n",
       "       ['Germany ', nan, 54000.0],\n",
       "       ['Spain ', 39.0, nan],\n",
       "       ['Germany ', nan, 64000.0],\n",
       "       ['France ', 35.0, 58000.0],\n",
       "       ['Spain ', 39.0, 52000.0],\n",
       "       ['France ', 48.0, nan],\n",
       "       ['Germany ', 50.0, 83000.0],\n",
       "       ['France ', 37.0, 67000.0]], dtype=object)"
      ]
     },
     "execution_count": 9,
     "metadata": {},
     "output_type": "execute_result"
    }
   ],
   "source": [
    "x\n"
   ]
  },
  {
   "cell_type": "code",
   "execution_count": null,
   "id": "42531269-3727-4b45-84cf-72bfd0f6e117",
   "metadata": {},
   "outputs": [],
   "source": [
    "from sklearn.impute import SimpleImputer\n",
    "si = SimpleImputer(  strategy =\"most_frequent\")"
   ]
  },
  {
   "cell_type": "code",
   "execution_count": 10,
   "id": "e3b2dbe0-9fe0-40ff-86e7-d6a5e64baf60",
   "metadata": {},
   "outputs": [
    {
     "data": {
      "text/plain": [
       "array([['France '],\n",
       "       [nan],\n",
       "       ['Germany '],\n",
       "       ['Spain '],\n",
       "       ['Germany '],\n",
       "       ['France '],\n",
       "       ['Spain '],\n",
       "       ['France '],\n",
       "       ['Germany '],\n",
       "       ['France ']], dtype=object)"
      ]
     },
     "execution_count": 10,
     "metadata": {},
     "output_type": "execute_result"
    }
   ],
   "source": [
    "x[:,0:1]"
   ]
  },
  {
   "cell_type": "code",
   "execution_count": 11,
   "id": "7fb1936b-39ac-4b98-9a49-585dc6c503bd",
   "metadata": {},
   "outputs": [
    {
     "name": "stdout",
     "output_type": "stream",
     "text": [
      "[['France ' 44.0 72000.0]\n",
      " ['France ' 27.0 48000.0]\n",
      " ['Germany ' nan 54000.0]\n",
      " ['Spain ' 39.0 nan]\n",
      " ['Germany ' nan 64000.0]\n",
      " ['France ' 35.0 58000.0]\n",
      " ['Spain ' 39.0 52000.0]\n",
      " ['France ' 48.0 nan]\n",
      " ['Germany ' 50.0 83000.0]\n",
      " ['France ' 37.0 67000.0]]\n"
     ]
    }
   ],
   "source": [
    "from sklearn.impute import SimpleImputer\n",
    "si = SimpleImputer(  strategy =\"most_frequent\")\n",
    "x[:,0:1] = si.fit_transform (x[:,0:1])\n",
    "print (x)"
   ]
  },
  {
   "cell_type": "code",
   "execution_count": 12,
   "id": "408c476f-9f6a-4e91-af35-3f314135a5be",
   "metadata": {},
   "outputs": [
    {
     "name": "stdout",
     "output_type": "stream",
     "text": [
      "[['France ' 44.0 72000.0]\n",
      " ['France ' 27.0 48000.0]\n",
      " ['Germany ' 39.875 54000.0]\n",
      " ['Spain ' 39.0 nan]\n",
      " ['Germany ' 39.875 64000.0]\n",
      " ['France ' 35.0 58000.0]\n",
      " ['Spain ' 39.0 52000.0]\n",
      " ['France ' 48.0 nan]\n",
      " ['Germany ' 50.0 83000.0]\n",
      " ['France ' 37.0 67000.0]]\n"
     ]
    }
   ],
   "source": [
    "from sklearn.impute import SimpleImputer\n",
    "si = SimpleImputer(  strategy =\"mean\")\n",
    "x[:,1:2] = si.fit_transform (x[:,1:2])\n",
    "print (x)"
   ]
  },
  {
   "cell_type": "code",
   "execution_count": 13,
   "id": "a09703d6-54cc-4198-8a30-2d97ce4d5d46",
   "metadata": {},
   "outputs": [
    {
     "name": "stdout",
     "output_type": "stream",
     "text": [
      "[['France ' 44.0 72000.0]\n",
      " ['France ' 27.0 48000.0]\n",
      " ['Germany ' 39.875 54000.0]\n",
      " ['Spain ' 39.0 62250.0]\n",
      " ['Germany ' 39.875 64000.0]\n",
      " ['France ' 35.0 58000.0]\n",
      " ['Spain ' 39.0 52000.0]\n",
      " ['France ' 48.0 62250.0]\n",
      " ['Germany ' 50.0 83000.0]\n",
      " ['France ' 37.0 67000.0]]\n"
     ]
    }
   ],
   "source": [
    "from sklearn.impute import SimpleImputer\n",
    "si = SimpleImputer()\n",
    "x[:,2:3] = si.fit_transform (x[:,2:3])\n",
    "print (x)"
   ]
  },
  {
   "cell_type": "code",
   "execution_count": 14,
   "id": "0584dd28-acad-4760-801a-29b7d68c0bc0",
   "metadata": {},
   "outputs": [
    {
     "name": "stdout",
     "output_type": "stream",
     "text": [
      "[['France ' 44.0 72000.0]\n",
      " ['France ' 27.0 48000.0]\n",
      " ['Germany ' 39.875 54000.0]\n",
      " ['Spain ' 39.0 62250.0]\n",
      " ['Germany ' 39.875 64000.0]\n",
      " ['France ' 35.0 58000.0]\n",
      " ['Spain ' 39.0 52000.0]\n",
      " ['France ' 48.0 62250.0]\n",
      " ['Germany ' 50.0 83000.0]\n",
      " ['France ' 37.0 67000.0]]\n"
     ]
    }
   ],
   "source": [
    "from sklearn.impute import SimpleImputer\n",
    "si = SimpleImputer()\n",
    "x[:,2:3] = si.fit_transform (x[:,2:3])\n",
    "print (x)"
   ]
  },
  {
   "cell_type": "code",
   "execution_count": 15,
   "id": "f37c8544-9f34-45c0-a3ca-86688ff24935",
   "metadata": {},
   "outputs": [
    {
     "data": {
      "text/plain": [
       "array(['France ', 'France ', 'Germany ', 'Spain ', 'Germany ', 'France ',\n",
       "       'Spain ', 'France ', 'Germany ', 'France '], dtype=object)"
      ]
     },
     "execution_count": 15,
     "metadata": {},
     "output_type": "execute_result"
    }
   ],
   "source": [
    "x[:,0]"
   ]
  },
  {
   "cell_type": "code",
   "execution_count": 17,
   "id": "2080ad88-7aa2-473c-8c32-f85e2cd6985d",
   "metadata": {},
   "outputs": [
    {
     "name": "stdout",
     "output_type": "stream",
     "text": [
      "[[0 44.0 72000.0]\n",
      " [0 27.0 48000.0]\n",
      " [1 39.875 54000.0]\n",
      " [2 39.0 62250.0]\n",
      " [1 39.875 64000.0]\n",
      " [0 35.0 58000.0]\n",
      " [2 39.0 52000.0]\n",
      " [0 48.0 62250.0]\n",
      " [1 50.0 83000.0]\n",
      " [0 37.0 67000.0]]\n"
     ]
    }
   ],
   "source": [
    "from sklearn.preprocessing import LabelEncoder\n",
    "le = LabelEncoder()\n",
    "x[:,0] =le.fit_transform (x[:,0])\n",
    "print (x)"
   ]
  },
  {
   "cell_type": "code",
   "execution_count": 18,
   "id": "698009f5-bd47-4901-bb07-bcd0278de147",
   "metadata": {},
   "outputs": [
    {
     "name": "stdout",
     "output_type": "stream",
     "text": [
      "[[0 44.0 72000.0]\n",
      " [0 27.0 48000.0]\n",
      " [1 39.875 54000.0]\n",
      " [2 39.0 62250.0]\n",
      " [1 39.875 64000.0]\n",
      " [0 35.0 58000.0]\n",
      " [2 39.0 52000.0]\n",
      " [0 48.0 62250.0]\n",
      " [1 50.0 83000.0]\n",
      " [0 37.0 67000.0]]\n"
     ]
    }
   ],
   "source": [
    "from sklearn.preprocessing import LabelEncoder\n",
    "le = LabelEncoder()\n",
    "x[:,0] =le.fit_transform (x[:,0])\n",
    "print (x)"
   ]
  },
  {
   "cell_type": "code",
   "execution_count": 19,
   "id": "20fc613f-7f0e-4efd-a495-821dbe60eac8",
   "metadata": {},
   "outputs": [],
   "source": [
    "from sklearn.compose import ColumnTransformer\n",
    "from sklearn.preprocessing import OneHotEncoder\n",
    "ct = ColumnTransformer(transformers =[('onehot',OneHotEncoder(),[0])],remainder = 'passthrough'  )\n",
    "x= ct.fit_transform (x)"
   ]
  },
  {
   "cell_type": "code",
   "execution_count": 20,
   "id": "e37e871a-2c6f-4494-86b6-b143d6d3e693",
   "metadata": {},
   "outputs": [
    {
     "data": {
      "text/plain": [
       "array(['No', 'Yes', 'No', 'No', 'Yes', 'Yes', 'No', 'Yes', 'No', 'Yes'],\n",
       "      dtype=object)"
      ]
     },
     "execution_count": 20,
     "metadata": {},
     "output_type": "execute_result"
    }
   ],
   "source": [
    "y\n"
   ]
  },
  {
   "cell_type": "code",
   "execution_count": 21,
   "id": "f99289b3-9d34-43f6-bc13-18155a1acea3",
   "metadata": {},
   "outputs": [
    {
     "name": "stdout",
     "output_type": "stream",
     "text": [
      "[0 1 0 0 1 1 0 1 0 1]\n"
     ]
    }
   ],
   "source": [
    "label_y = LabelEncoder()\n",
    "y = label_y.fit_transform(y)\n",
    "print (y)"
   ]
  },
  {
   "cell_type": "code",
   "execution_count": 22,
   "id": "2d516995-073e-4c41-a542-bd036fff8897",
   "metadata": {},
   "outputs": [
    {
     "name": "stdout",
     "output_type": "stream",
     "text": [
      "     0         1    2         3         4\n",
      "0  1.0 -0.654654 -0.5  0.664912  1.002707\n",
      "1  1.0 -0.654654 -0.5 -2.075331 -1.465494\n",
      "2 -1.0  1.527525 -0.5  0.000000 -0.848444\n",
      "3 -1.0 -0.654654  2.0 -0.141042  0.000000\n",
      "4 -1.0  1.527525 -0.5  0.000000  0.179973\n",
      "5  1.0 -0.654654 -0.5 -0.785805 -0.437077\n",
      "6 -1.0 -0.654654  2.0 -0.141042 -1.054127\n",
      "7  1.0 -0.654654 -0.5  1.309675  0.000000\n",
      "8 -1.0  1.527525 -0.5  1.632056  2.133965\n",
      "9  1.0 -0.654654 -0.5 -0.463423  0.488498\n"
     ]
    }
   ],
   "source": [
    "from sklearn.preprocessing import StandardScaler\n",
    "std_sca= StandardScaler()\n",
    "x_STD = std_sca.fit_transform(x)\n",
    "print (pd.DataFrame(x_STD))"
   ]
  },
  {
   "cell_type": "code",
   "execution_count": 23,
   "id": "b016a8ff-7160-447a-a318-7f603567721d",
   "metadata": {},
   "outputs": [
    {
     "data": {
      "text/plain": [
       "array([[1.0, 0.0, 0.0, 44.0, 72000.0],\n",
       "       [1.0, 0.0, 0.0, 27.0, 48000.0],\n",
       "       [0.0, 1.0, 0.0, 39.875, 54000.0],\n",
       "       [0.0, 0.0, 1.0, 39.0, 62250.0],\n",
       "       [0.0, 1.0, 0.0, 39.875, 64000.0],\n",
       "       [1.0, 0.0, 0.0, 35.0, 58000.0],\n",
       "       [0.0, 0.0, 1.0, 39.0, 52000.0],\n",
       "       [1.0, 0.0, 0.0, 48.0, 62250.0],\n",
       "       [0.0, 1.0, 0.0, 50.0, 83000.0],\n",
       "       [1.0, 0.0, 0.0, 37.0, 67000.0]], dtype=object)"
      ]
     },
     "execution_count": 23,
     "metadata": {},
     "output_type": "execute_result"
    }
   ],
   "source": [
    "x"
   ]
  },
  {
   "cell_type": "code",
   "execution_count": 24,
   "id": "4ed708da-2436-415b-a768-d0ff5ea5d1c7",
   "metadata": {},
   "outputs": [
    {
     "name": "stdout",
     "output_type": "stream",
     "text": [
      "     0    1    2         3         4\n",
      "0  1.0  0.0  0.0  0.739130  0.685714\n",
      "1  1.0  0.0  0.0  0.000000  0.000000\n",
      "2  0.0  1.0  0.0  0.559783  0.171429\n",
      "3  0.0  0.0  1.0  0.521739  0.407143\n",
      "4  0.0  1.0  0.0  0.559783  0.457143\n",
      "5  1.0  0.0  0.0  0.347826  0.285714\n",
      "6  0.0  0.0  1.0  0.521739  0.114286\n",
      "7  1.0  0.0  0.0  0.913043  0.407143\n",
      "8  0.0  1.0  0.0  1.000000  1.000000\n",
      "9  1.0  0.0  0.0  0.434783  0.542857\n"
     ]
    }
   ],
   "source": [
    "from sklearn.preprocessing import MinMaxScaler\n",
    "Nm_x= MinMaxScaler()\n",
    "x_NOR = Nm_x.fit_transform(x)\n",
    "print (pd.DataFrame(x_NOR))"
   ]
  },
  {
   "cell_type": "code",
   "execution_count": 25,
   "id": "18e12766-f82a-4e7a-a73d-ad265729e9c5",
   "metadata": {},
   "outputs": [
    {
     "data": {
      "text/plain": [
       "array([[1.0, 0.0, 0.0, 44.0, 72000.0],\n",
       "       [1.0, 0.0, 0.0, 27.0, 48000.0],\n",
       "       [0.0, 1.0, 0.0, 39.875, 54000.0],\n",
       "       [0.0, 0.0, 1.0, 39.0, 62250.0],\n",
       "       [0.0, 1.0, 0.0, 39.875, 64000.0],\n",
       "       [1.0, 0.0, 0.0, 35.0, 58000.0],\n",
       "       [0.0, 0.0, 1.0, 39.0, 52000.0],\n",
       "       [1.0, 0.0, 0.0, 48.0, 62250.0],\n",
       "       [0.0, 1.0, 0.0, 50.0, 83000.0],\n",
       "       [1.0, 0.0, 0.0, 37.0, 67000.0]], dtype=object)"
      ]
     },
     "execution_count": 25,
     "metadata": {},
     "output_type": "execute_result"
    }
   ],
   "source": [
    "x"
   ]
  },
  {
   "cell_type": "code",
   "execution_count": 26,
   "id": "7f0e01f6-da8c-4da6-be06-23503fcabe50",
   "metadata": {},
   "outputs": [
    {
     "name": "stdout",
     "output_type": "stream",
     "text": [
      "          0         1         2         3    4\n",
      "0  0.000014  0.000000  0.000000  0.000611  1.0\n",
      "1  0.000021  0.000000  0.000000  0.000562  1.0\n",
      "2  0.000000  0.000019  0.000000  0.000738  1.0\n",
      "3  0.000000  0.000000  0.000016  0.000627  1.0\n",
      "4  0.000000  0.000016  0.000000  0.000623  1.0\n",
      "5  0.000017  0.000000  0.000000  0.000603  1.0\n",
      "6  0.000000  0.000000  0.000019  0.000750  1.0\n",
      "7  0.000016  0.000000  0.000000  0.000771  1.0\n",
      "8  0.000000  0.000012  0.000000  0.000602  1.0\n",
      "9  0.000015  0.000000  0.000000  0.000552  1.0\n"
     ]
    }
   ],
   "source": [
    "from sklearn.preprocessing import Normalizer\n",
    "Nm_x= Normalizer()\n",
    "x_NOR = Nm_x.fit_transform(x)\n",
    "print (pd.DataFrame(x_NOR))"
   ]
  },
  {
   "cell_type": "code",
   "execution_count": null,
   "id": "506b53fc-99f8-4783-965d-65b811e2f8ad",
   "metadata": {},
   "outputs": [],
   "source": []
  },
  {
   "cell_type": "code",
   "execution_count": null,
   "id": "6b96ab68-672d-48fa-8fe1-5578310ec27e",
   "metadata": {},
   "outputs": [],
   "source": []
  },
  {
   "cell_type": "code",
   "execution_count": null,
   "id": "8798e7f9-d8f5-449f-a5f8-749177778e48",
   "metadata": {},
   "outputs": [],
   "source": []
  }
 ],
 "metadata": {
  "kernelspec": {
   "display_name": "Python 3 (ipykernel)",
   "language": "python",
   "name": "python3"
  },
  "language_info": {
   "codemirror_mode": {
    "name": "ipython",
    "version": 3
   },
   "file_extension": ".py",
   "mimetype": "text/x-python",
   "name": "python",
   "nbconvert_exporter": "python",
   "pygments_lexer": "ipython3",
   "version": "3.12.4"
  }
 },
 "nbformat": 4,
 "nbformat_minor": 5
}
