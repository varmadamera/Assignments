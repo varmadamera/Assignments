{
 "cells": [
  {
   "cell_type": "code",
   "execution_count": 1,
   "id": "fe87facf-e4c6-42f9-80cb-23055c07009d",
   "metadata": {},
   "outputs": [
    {
     "name": "stdout",
     "output_type": "stream",
     "text": [
      "4\n"
     ]
    }
   ],
   "source": [
    "nums = set([1,1,2,3,3,3,4,4])\n",
    "print(len(nums))"
   ]
  },
  {
   "cell_type": "code",
   "execution_count": 2,
   "id": "e48fa295-4af3-4f82-8458-b4eeae9aa975",
   "metadata": {},
   "outputs": [
    {
     "name": "stdout",
     "output_type": "stream",
     "text": [
      "['john', 'peter']\n"
     ]
    }
   ],
   "source": [
    "d = {\"john\":40, \"peter\":45}\n",
    "print(list(d.keys()))\n"
   ]
  },
  {
   "cell_type": "code",
   "execution_count": 3,
   "id": "2db6197e-2d96-4ec5-b3d8-7cfd4db67369",
   "metadata": {},
   "outputs": [
    {
     "name": "stdout",
     "output_type": "stream",
     "text": [
      "4 is at position 1\n",
      "7 is at position 2\n",
      "3 is at position 3\n",
      "2 is at position 4\n",
      "5 is at position 5\n",
      "9 is at position 6\n"
     ]
    }
   ],
   "source": [
    "a = [4,7,3,2,5,9]\n",
    "for item in a:\n",
    "    print(str(item) + \" is at position \" + str(a.index(item) + 1))"
   ]
  },
  {
   "cell_type": "code",
   "execution_count": 5,
   "id": "fccc1e1c-ea90-4953-91ee-1382e6d5ebe8",
   "metadata": {},
   "outputs": [
    {
     "name": "stdin",
     "output_type": "stream",
     "text": [
      "Enter String like H1e2l3l4o5w6o7r8l9d means alphanumeric string which wil contain alternate alphabates and numbers H1e2l3l4o5w6o7r8l9d\n"
     ]
    },
    {
     "name": "stdout",
     "output_type": "stream",
     "text": [
      "Helloworld\n"
     ]
    }
   ],
   "source": [
    "s=input(\"Enter String like H1e2l3l4o5w6o7r8l9d means alphanumeric string which wil contain alternate alphabates and numbers\")\n",
    "s = s[::2]\n",
    "print(s)"
   ]
  },
  {
   "cell_type": "code",
   "execution_count": 6,
   "id": "5a57ac36-94fe-4992-bd32-0906ace46647",
   "metadata": {},
   "outputs": [
    {
     "name": "stdin",
     "output_type": "stream",
     "text": [
      "Enter string which you want to reverse Vijay Kumar Damera\n"
     ]
    },
    {
     "name": "stdout",
     "output_type": "stream",
     "text": [
      "aremaD ramuK yajiV\n"
     ]
    }
   ],
   "source": [
    "s=input(\"Enter string which you want to reverse\")\n",
    "s = s[::-1]\n",
    "print(s)"
   ]
  },
  {
   "cell_type": "code",
   "execution_count": 7,
   "id": "9d552e60-8000-4420-9732-b2b961642a8b",
   "metadata": {},
   "outputs": [
    {
     "name": "stdin",
     "output_type": "stream",
     "text": [
      "Enter string Vijay Kumar Damera\n"
     ]
    },
    {
     "name": "stdout",
     "output_type": "stream",
     "text": [
      "V,1\n",
      "i,1\n",
      "j,1\n",
      "a,4\n",
      "y,1\n",
      " ,2\n",
      "K,1\n",
      "u,1\n",
      "m,2\n",
      "r,2\n",
      "D,1\n",
      "e,1\n"
     ]
    }
   ],
   "source": [
    "dic = {}\n",
    "s=input('Enter string')\n",
    "for s in s:\n",
    "    dic[s] = dic.get(s,0)+1\n",
    "print('\\n'.join(['%s,%s' % (k, v) for k, v in dic.items()]))"
   ]
  },
  {
   "cell_type": "code",
   "execution_count": 8,
   "id": "f896c43c-1e36-4dbd-b1f0-735b040ee7c1",
   "metadata": {},
   "outputs": [
    {
     "name": "stdout",
     "output_type": "stream",
     "text": [
      "[35]\n"
     ]
    }
   ],
   "source": [
    "set1={1,3,6,78,35,55}\n",
    "set2={12,24,35,24,88,120,155}\n",
    "set1 &= set2\n",
    "li=list(set1)\n",
    "print(li)\n"
   ]
  },
  {
   "cell_type": "code",
   "execution_count": 9,
   "id": "1bec7638-143b-4cc1-861a-867f518921a1",
   "metadata": {},
   "outputs": [
    {
     "name": "stdout",
     "output_type": "stream",
     "text": [
      "[12, 35, 88, 120, 155]\n"
     ]
    }
   ],
   "source": [
    "li = [12,24,35,24,88,120,155]\n",
    "\n",
    "li = [x for x in li if x!=24]\n",
    "\n",
    "print(li)\n"
   ]
  },
  {
   "cell_type": "code",
   "execution_count": 10,
   "id": "0ea4160a-6d36-412e-ae46-6cf98e3d847f",
   "metadata": {},
   "outputs": [
    {
     "name": "stdout",
     "output_type": "stream",
     "text": [
      "(0, 'bread')\n",
      "(1, 'milk')\n",
      "(2, 'butter')\n",
      "\n",
      "\n",
      "0 bread\n",
      "1 milk\n",
      "2 butter\n",
      "\n",
      "\n",
      "100 bread\n",
      "101 milk\n",
      "102 butter\n"
     ]
    }
   ],
   "source": [
    "grocery = ['bread', 'milk', 'butter']\n",
    "\n",
    "for item in enumerate(grocery):\n",
    "  print(item)\n",
    "\n",
    "print('\\n')\n",
    "for count, item in enumerate(grocery):\n",
    "  print(count, item)\n",
    "\n",
    "print('\\n')\n",
    "# changing default start value\n",
    "for count, item in enumerate(grocery, 100):\n",
    "  print(count, item)"
   ]
  },
  {
   "cell_type": "code",
   "execution_count": 11,
   "id": "bd95bffe-7555-4e7c-967f-17bc1954b3b0",
   "metadata": {},
   "outputs": [
    {
     "name": "stdout",
     "output_type": "stream",
     "text": [
      "[24, 35, 70, 155]\n"
     ]
    }
   ],
   "source": [
    "li = [12,24,35,70,88,120,155]\n",
    "li = [x for (i,x) in enumerate(li) if i not in (0,4,5)]\n",
    "print(li)"
   ]
  },
  {
   "cell_type": "code",
   "execution_count": 12,
   "id": "08581293-bfd7-4d89-bb84-49d575191cfa",
   "metadata": {},
   "outputs": [
    {
     "name": "stdout",
     "output_type": "stream",
     "text": [
      "[12, 24, 88, 120, 155]\n"
     ]
    }
   ],
   "source": [
    "li = [12,24,35,70,88,120,155]\n",
    "\n",
    "li = [x for x in li if not (x%5 ==0 and x%7==0)]\n",
    "\n",
    "print(li)"
   ]
  },
  {
   "cell_type": "code",
   "execution_count": 13,
   "id": "ba7031dd-d081-4f7c-b0ef-ea466f0bf3bc",
   "metadata": {},
   "outputs": [
    {
     "name": "stdin",
     "output_type": "stream",
     "text": [
      "Enter a number 14756\n"
     ]
    },
    {
     "name": "stdout",
     "output_type": "stream",
     "text": [
      "14746.823277627796\n"
     ]
    }
   ],
   "source": [
    "\n",
    "n=int(input(\"Enter a number\"))\n",
    "sum=0.0\n",
    "for i in range(1,n+1):\n",
    "    sum += float(float(i)/(i+1))\n",
    "print(sum)"
   ]
  },
  {
   "cell_type": "code",
   "execution_count": null,
   "id": "5d7d1829-ace9-4385-962f-deaa61892ce9",
   "metadata": {},
   "outputs": [],
   "source": []
  },
  {
   "cell_type": "code",
   "execution_count": null,
   "id": "56e0e294-dbbf-474c-88c2-7f273ec154fa",
   "metadata": {},
   "outputs": [],
   "source": []
  },
  {
   "cell_type": "code",
   "execution_count": null,
   "id": "8142aa74-2948-4506-8473-99e34213cb3e",
   "metadata": {},
   "outputs": [],
   "source": []
  },
  {
   "cell_type": "code",
   "execution_count": null,
   "id": "e8f68052-8714-4ab8-b4ed-3402498f0928",
   "metadata": {},
   "outputs": [],
   "source": []
  },
  {
   "cell_type": "code",
   "execution_count": null,
   "id": "b935acec-3512-4b1a-bb0f-a44cecbb5c77",
   "metadata": {},
   "outputs": [],
   "source": []
  },
  {
   "cell_type": "code",
   "execution_count": null,
   "id": "1e4f045e-bd4d-48d8-becc-2dcff1509c63",
   "metadata": {},
   "outputs": [],
   "source": []
  },
  {
   "cell_type": "code",
   "execution_count": null,
   "id": "20a6aa60-c174-46b4-ab06-21182fa22522",
   "metadata": {},
   "outputs": [],
   "source": []
  },
  {
   "cell_type": "code",
   "execution_count": null,
   "id": "29084012-b6a0-4b0c-beaa-95e450ab68cd",
   "metadata": {},
   "outputs": [],
   "source": []
  },
  {
   "cell_type": "code",
   "execution_count": null,
   "id": "f0ee9400-341a-4809-81d1-4e24fa149986",
   "metadata": {},
   "outputs": [],
   "source": []
  },
  {
   "cell_type": "code",
   "execution_count": null,
   "id": "673f70e2-6226-4716-8f3c-e634dbfa9deb",
   "metadata": {},
   "outputs": [],
   "source": []
  },
  {
   "cell_type": "code",
   "execution_count": null,
   "id": "6cbc1ff7-4fd2-4c78-8a17-c87f9be40ac7",
   "metadata": {},
   "outputs": [],
   "source": []
  },
  {
   "cell_type": "code",
   "execution_count": null,
   "id": "362fe12b-172c-4d74-b903-38a5e494de47",
   "metadata": {},
   "outputs": [],
   "source": []
  },
  {
   "cell_type": "code",
   "execution_count": null,
   "id": "d009f10d-f5de-4d02-92dd-d7e66d81c024",
   "metadata": {},
   "outputs": [],
   "source": []
  },
  {
   "cell_type": "code",
   "execution_count": null,
   "id": "19366ec3-156c-4eb4-954e-1abb57602201",
   "metadata": {},
   "outputs": [],
   "source": []
  },
  {
   "cell_type": "code",
   "execution_count": null,
   "id": "9e61dda5-b638-4c83-8144-020e17f6cf34",
   "metadata": {},
   "outputs": [],
   "source": []
  },
  {
   "cell_type": "code",
   "execution_count": null,
   "id": "b34e1f20-19c3-44d6-b5bc-16b0df389f1b",
   "metadata": {},
   "outputs": [],
   "source": []
  },
  {
   "cell_type": "code",
   "execution_count": null,
   "id": "db246905-eece-49ae-8759-0548416d79bd",
   "metadata": {},
   "outputs": [],
   "source": []
  },
  {
   "cell_type": "code",
   "execution_count": null,
   "id": "aac4b3a8-9283-47f7-8ed7-3eaea78595e3",
   "metadata": {},
   "outputs": [],
   "source": []
  },
  {
   "cell_type": "code",
   "execution_count": null,
   "id": "a0a2b22f-313b-41c3-8708-4374974e3f28",
   "metadata": {},
   "outputs": [],
   "source": []
  },
  {
   "cell_type": "code",
   "execution_count": null,
   "id": "18be2e51-1ee7-4fab-927a-aa39eeb16a0b",
   "metadata": {},
   "outputs": [],
   "source": []
  },
  {
   "cell_type": "code",
   "execution_count": null,
   "id": "dfb2b0eb-9eef-46c9-8140-fb7c47e79aa9",
   "metadata": {},
   "outputs": [],
   "source": []
  },
  {
   "cell_type": "code",
   "execution_count": null,
   "id": "7e8abe5d-79a2-4078-8a0b-7194e89f30c0",
   "metadata": {},
   "outputs": [],
   "source": []
  },
  {
   "cell_type": "code",
   "execution_count": null,
   "id": "cf87c31d-84f3-41ca-8844-034daad183c0",
   "metadata": {},
   "outputs": [],
   "source": []
  }
 ],
 "metadata": {
  "kernelspec": {
   "display_name": "Python 3 (ipykernel)",
   "language": "python",
   "name": "python3"
  },
  "language_info": {
   "codemirror_mode": {
    "name": "ipython",
    "version": 3
   },
   "file_extension": ".py",
   "mimetype": "text/x-python",
   "name": "python",
   "nbconvert_exporter": "python",
   "pygments_lexer": "ipython3",
   "version": "3.12.4"
  }
 },
 "nbformat": 4,
 "nbformat_minor": 5
}
