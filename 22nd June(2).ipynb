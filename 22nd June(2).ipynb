{
 "cells": [
  {
   "cell_type": "code",
   "execution_count": 1,
   "id": "c4019fd0-73e4-45f8-8c1a-46cc185ed862",
   "metadata": {},
   "outputs": [],
   "source": [
    "import numpy as np\n",
    "import pandas as pd\n",
    "import os\n",
    "import matplotlib.pyplot as plt"
   ]
  },
  {
   "cell_type": "code",
   "execution_count": 2,
   "id": "2e3a3c08-3b37-4535-ba17-ed088e93895e",
   "metadata": {},
   "outputs": [],
   "source": [
    "os.chdir('C:\\\\Users\\\\vkdamera\\\\Downloads\\\\Batch 98 Day 27\\\\Batch 98 Day 27\\\\')"
   ]
  },
  {
   "cell_type": "code",
   "execution_count": 3,
   "id": "eb8a88e2-6381-4dd9-bf8c-e996fc4c77e7",
   "metadata": {},
   "outputs": [
    {
     "data": {
      "text/plain": [
       "'C:\\\\Users\\\\vkdamera\\\\Downloads\\\\Batch 98 Day 27\\\\Batch 98 Day 27'"
      ]
     },
     "execution_count": 3,
     "metadata": {},
     "output_type": "execute_result"
    }
   ],
   "source": [
    "pwd"
   ]
  },
  {
   "cell_type": "code",
   "execution_count": 4,
   "id": "afc6e75d-7ff9-4a30-9659-b32924ae1c1e",
   "metadata": {},
   "outputs": [
    {
     "data": {
      "text/html": [
       "<div>\n",
       "<style scoped>\n",
       "    .dataframe tbody tr th:only-of-type {\n",
       "        vertical-align: middle;\n",
       "    }\n",
       "\n",
       "    .dataframe tbody tr th {\n",
       "        vertical-align: top;\n",
       "    }\n",
       "\n",
       "    .dataframe thead th {\n",
       "        text-align: right;\n",
       "    }\n",
       "</style>\n",
       "<table border=\"1\" class=\"dataframe\">\n",
       "  <thead>\n",
       "    <tr style=\"text-align: right;\">\n",
       "      <th></th>\n",
       "      <th>YearsExperience</th>\n",
       "      <th>Salary</th>\n",
       "    </tr>\n",
       "  </thead>\n",
       "  <tbody>\n",
       "    <tr>\n",
       "      <th>0</th>\n",
       "      <td>1.1</td>\n",
       "      <td>39343</td>\n",
       "    </tr>\n",
       "    <tr>\n",
       "      <th>1</th>\n",
       "      <td>1.3</td>\n",
       "      <td>46205</td>\n",
       "    </tr>\n",
       "    <tr>\n",
       "      <th>2</th>\n",
       "      <td>1.5</td>\n",
       "      <td>37731</td>\n",
       "    </tr>\n",
       "    <tr>\n",
       "      <th>3</th>\n",
       "      <td>2.0</td>\n",
       "      <td>43525</td>\n",
       "    </tr>\n",
       "    <tr>\n",
       "      <th>4</th>\n",
       "      <td>2.2</td>\n",
       "      <td>39891</td>\n",
       "    </tr>\n",
       "    <tr>\n",
       "      <th>5</th>\n",
       "      <td>2.9</td>\n",
       "      <td>56642</td>\n",
       "    </tr>\n",
       "    <tr>\n",
       "      <th>6</th>\n",
       "      <td>3.0</td>\n",
       "      <td>60150</td>\n",
       "    </tr>\n",
       "    <tr>\n",
       "      <th>7</th>\n",
       "      <td>3.2</td>\n",
       "      <td>54445</td>\n",
       "    </tr>\n",
       "    <tr>\n",
       "      <th>8</th>\n",
       "      <td>3.2</td>\n",
       "      <td>64445</td>\n",
       "    </tr>\n",
       "    <tr>\n",
       "      <th>9</th>\n",
       "      <td>3.7</td>\n",
       "      <td>57189</td>\n",
       "    </tr>\n",
       "    <tr>\n",
       "      <th>10</th>\n",
       "      <td>3.9</td>\n",
       "      <td>63218</td>\n",
       "    </tr>\n",
       "    <tr>\n",
       "      <th>11</th>\n",
       "      <td>4.0</td>\n",
       "      <td>55794</td>\n",
       "    </tr>\n",
       "    <tr>\n",
       "      <th>12</th>\n",
       "      <td>4.0</td>\n",
       "      <td>56957</td>\n",
       "    </tr>\n",
       "    <tr>\n",
       "      <th>13</th>\n",
       "      <td>4.1</td>\n",
       "      <td>57081</td>\n",
       "    </tr>\n",
       "    <tr>\n",
       "      <th>14</th>\n",
       "      <td>4.5</td>\n",
       "      <td>61111</td>\n",
       "    </tr>\n",
       "    <tr>\n",
       "      <th>15</th>\n",
       "      <td>4.9</td>\n",
       "      <td>67938</td>\n",
       "    </tr>\n",
       "    <tr>\n",
       "      <th>16</th>\n",
       "      <td>5.1</td>\n",
       "      <td>66029</td>\n",
       "    </tr>\n",
       "    <tr>\n",
       "      <th>17</th>\n",
       "      <td>5.3</td>\n",
       "      <td>83088</td>\n",
       "    </tr>\n",
       "    <tr>\n",
       "      <th>18</th>\n",
       "      <td>5.9</td>\n",
       "      <td>81363</td>\n",
       "    </tr>\n",
       "    <tr>\n",
       "      <th>19</th>\n",
       "      <td>6.0</td>\n",
       "      <td>93940</td>\n",
       "    </tr>\n",
       "    <tr>\n",
       "      <th>20</th>\n",
       "      <td>6.8</td>\n",
       "      <td>91738</td>\n",
       "    </tr>\n",
       "    <tr>\n",
       "      <th>21</th>\n",
       "      <td>7.1</td>\n",
       "      <td>98273</td>\n",
       "    </tr>\n",
       "    <tr>\n",
       "      <th>22</th>\n",
       "      <td>7.9</td>\n",
       "      <td>101302</td>\n",
       "    </tr>\n",
       "    <tr>\n",
       "      <th>23</th>\n",
       "      <td>8.2</td>\n",
       "      <td>113812</td>\n",
       "    </tr>\n",
       "    <tr>\n",
       "      <th>24</th>\n",
       "      <td>8.7</td>\n",
       "      <td>109431</td>\n",
       "    </tr>\n",
       "    <tr>\n",
       "      <th>25</th>\n",
       "      <td>9.0</td>\n",
       "      <td>105582</td>\n",
       "    </tr>\n",
       "    <tr>\n",
       "      <th>26</th>\n",
       "      <td>9.5</td>\n",
       "      <td>116969</td>\n",
       "    </tr>\n",
       "    <tr>\n",
       "      <th>27</th>\n",
       "      <td>9.6</td>\n",
       "      <td>112635</td>\n",
       "    </tr>\n",
       "    <tr>\n",
       "      <th>28</th>\n",
       "      <td>10.3</td>\n",
       "      <td>122391</td>\n",
       "    </tr>\n",
       "    <tr>\n",
       "      <th>29</th>\n",
       "      <td>10.5</td>\n",
       "      <td>121872</td>\n",
       "    </tr>\n",
       "  </tbody>\n",
       "</table>\n",
       "</div>"
      ],
      "text/plain": [
       "    YearsExperience  Salary\n",
       "0               1.1   39343\n",
       "1               1.3   46205\n",
       "2               1.5   37731\n",
       "3               2.0   43525\n",
       "4               2.2   39891\n",
       "5               2.9   56642\n",
       "6               3.0   60150\n",
       "7               3.2   54445\n",
       "8               3.2   64445\n",
       "9               3.7   57189\n",
       "10              3.9   63218\n",
       "11              4.0   55794\n",
       "12              4.0   56957\n",
       "13              4.1   57081\n",
       "14              4.5   61111\n",
       "15              4.9   67938\n",
       "16              5.1   66029\n",
       "17              5.3   83088\n",
       "18              5.9   81363\n",
       "19              6.0   93940\n",
       "20              6.8   91738\n",
       "21              7.1   98273\n",
       "22              7.9  101302\n",
       "23              8.2  113812\n",
       "24              8.7  109431\n",
       "25              9.0  105582\n",
       "26              9.5  116969\n",
       "27              9.6  112635\n",
       "28             10.3  122391\n",
       "29             10.5  121872"
      ]
     },
     "metadata": {},
     "output_type": "display_data"
    }
   ],
   "source": [
    "df1 = pd.read_csv('Salary_Data.csv')\n",
    "display (df1)"
   ]
  },
  {
   "cell_type": "code",
   "execution_count": 5,
   "id": "8543a313-597e-414b-ab10-3032d7d07632",
   "metadata": {},
   "outputs": [
    {
     "name": "stdout",
     "output_type": "stream",
     "text": [
      "    YearsExperience\n",
      "0               1.1\n",
      "1               1.3\n",
      "2               1.5\n",
      "3               2.0\n",
      "4               2.2\n",
      "5               2.9\n",
      "6               3.0\n",
      "7               3.2\n",
      "8               3.2\n",
      "9               3.7\n",
      "10              3.9\n",
      "11              4.0\n",
      "12              4.0\n",
      "13              4.1\n",
      "14              4.5\n",
      "15              4.9\n",
      "16              5.1\n",
      "17              5.3\n",
      "18              5.9\n",
      "19              6.0\n",
      "20              6.8\n",
      "21              7.1\n",
      "22              7.9\n",
      "23              8.2\n",
      "24              8.7\n",
      "25              9.0\n",
      "26              9.5\n",
      "27              9.6\n",
      "28             10.3\n",
      "29             10.5\n"
     ]
    }
   ],
   "source": [
    "x = df1.iloc[:,:-1]\n",
    "print (x)"
   ]
  },
  {
   "cell_type": "code",
   "execution_count": 6,
   "id": "ed2d8a58-392a-47dd-99f8-31d04cd91815",
   "metadata": {},
   "outputs": [
    {
     "name": "stdout",
     "output_type": "stream",
     "text": [
      "0      39343\n",
      "1      46205\n",
      "2      37731\n",
      "3      43525\n",
      "4      39891\n",
      "5      56642\n",
      "6      60150\n",
      "7      54445\n",
      "8      64445\n",
      "9      57189\n",
      "10     63218\n",
      "11     55794\n",
      "12     56957\n",
      "13     57081\n",
      "14     61111\n",
      "15     67938\n",
      "16     66029\n",
      "17     83088\n",
      "18     81363\n",
      "19     93940\n",
      "20     91738\n",
      "21     98273\n",
      "22    101302\n",
      "23    113812\n",
      "24    109431\n",
      "25    105582\n",
      "26    116969\n",
      "27    112635\n",
      "28    122391\n",
      "29    121872\n",
      "Name: Salary, dtype: int64\n"
     ]
    }
   ],
   "source": [
    "y = df1.iloc[:,1]\n",
    "print (y)"
   ]
  },
  {
   "cell_type": "code",
   "execution_count": 7,
   "id": "99d62b47-fe6a-401c-940f-6372a35de390",
   "metadata": {},
   "outputs": [
    {
     "data": {
      "image/png": "[encoded data removed]",
      "text/plain": [
       "<Figure size 640x480 with 1 Axes>"
      ]
     },
     "metadata": {},
     "output_type": "display_data"
    }
   ],
   "source": [
    "plt.plot (x,y)\n",
    "plt.show()"
   ]
  },
  {
   "cell_type": "code",
   "execution_count": 8,
   "id": "f53c7b31-1dc8-4fc6-8017-84812976b0e6",
   "metadata": {},
   "outputs": [
    {
     "name": "stdout",
     "output_type": "stream",
     "text": [
      "X Shape- (30, 1)\n",
      "Y Shape- (30,)\n",
      "X_Train Shape- (24, 1)\n",
      "Y_Train Shape- (24,)\n",
      "X_Test Shape- (6, 1)\n",
      "Y_Test Shape- (6,)\n"
     ]
    }
   ],
   "source": [
    "from sklearn.model_selection import train_test_split\n",
    "x_train, x_test,y_train,y_test = train_test_split(x,y,test_size=0.2)\n",
    "print ('X Shape-',x.shape)\n",
    "print ('Y Shape-', y.shape)\n",
    "print ('X_Train Shape-',x_train.shape)\n",
    "print ('Y_Train Shape-',y_train.shape)\n",
    "print ('X_Test Shape-',x_test.shape)\n",
    "print ('Y_Test Shape-',y_test.shape)"
   ]
  },
  {
   "cell_type": "code",
   "execution_count": 9,
   "id": "386266e2-f322-4a0d-9942-8086cff3b3ad",
   "metadata": {},
   "outputs": [
    {
     "name": "stdout",
     "output_type": "stream",
     "text": [
      "    YearsExperience\n",
      "18              5.9\n",
      "1               1.3\n",
      "21              7.1\n",
      "17              5.3\n",
      "22              7.9\n",
      "13              4.1\n"
     ]
    }
   ],
   "source": [
    "print (x_test)"
   ]
  },
  {
   "cell_type": "code",
   "execution_count": 10,
   "id": "4b811207-eda4-4daf-a70c-d0f487cea59c",
   "metadata": {},
   "outputs": [
    {
     "name": "stdout",
     "output_type": "stream",
     "text": [
      "LinearRegression()\n"
     ]
    }
   ],
   "source": [
    "from sklearn.linear_model import LinearRegression\n",
    "lr = LinearRegression()\n",
    "lr.fit(x_train, y_train)\n",
    "print (lr)"
   ]
  },
  {
   "cell_type": "code",
   "execution_count": 11,
   "id": "659bddd8-951e-4e6f-a2ab-ef84ae71174b",
   "metadata": {},
   "outputs": [
    {
     "data": {
      "text/html": [
       "<div>\n",
       "<style scoped>\n",
       "    .dataframe tbody tr th:only-of-type {\n",
       "        vertical-align: middle;\n",
       "    }\n",
       "\n",
       "    .dataframe tbody tr th {\n",
       "        vertical-align: top;\n",
       "    }\n",
       "\n",
       "    .dataframe thead th {\n",
       "        text-align: right;\n",
       "    }\n",
       "</style>\n",
       "<table border=\"1\" class=\"dataframe\">\n",
       "  <thead>\n",
       "    <tr style=\"text-align: right;\">\n",
       "      <th></th>\n",
       "      <th>YearsExperience</th>\n",
       "    </tr>\n",
       "  </thead>\n",
       "  <tbody>\n",
       "    <tr>\n",
       "      <th>18</th>\n",
       "      <td>5.9</td>\n",
       "    </tr>\n",
       "    <tr>\n",
       "      <th>1</th>\n",
       "      <td>1.3</td>\n",
       "    </tr>\n",
       "    <tr>\n",
       "      <th>21</th>\n",
       "      <td>7.1</td>\n",
       "    </tr>\n",
       "    <tr>\n",
       "      <th>17</th>\n",
       "      <td>5.3</td>\n",
       "    </tr>\n",
       "    <tr>\n",
       "      <th>22</th>\n",
       "      <td>7.9</td>\n",
       "    </tr>\n",
       "    <tr>\n",
       "      <th>13</th>\n",
       "      <td>4.1</td>\n",
       "    </tr>\n",
       "  </tbody>\n",
       "</table>\n",
       "</div>"
      ],
      "text/plain": [
       "    YearsExperience\n",
       "18              5.9\n",
       "1               1.3\n",
       "21              7.1\n",
       "17              5.3\n",
       "22              7.9\n",
       "13              4.1"
      ]
     },
     "execution_count": 11,
     "metadata": {},
     "output_type": "execute_result"
    }
   ],
   "source": [
    "x_test"
   ]
  },
  {
   "cell_type": "code",
   "execution_count": 12,
   "id": "a3a100ef-f5b4-47a8-8c07-f755933eab17",
   "metadata": {},
   "outputs": [
    {
     "name": "stdout",
     "output_type": "stream",
     "text": [
      "[ 80999.97469359  37259.51047818  92410.53057587  75294.69675245\n",
      " 100017.56783073  63884.14087017]\n"
     ]
    }
   ],
   "source": [
    "y_pred= lr.predict(x_test)\n",
    "print (y_pred)"
   ]
  },
  {
   "cell_type": "code",
   "execution_count": 13,
   "id": "53010ed0-d669-448f-9355-e981d5c8bd89",
   "metadata": {},
   "outputs": [
    {
     "name": "stdout",
     "output_type": "stream",
     "text": [
      "0.9085144751959192\n"
     ]
    }
   ],
   "source": [
    "from sklearn.metrics import r2_score\n",
    "accuracy =r2_score(y_test,y_pred)\n",
    "print (accuracy)"
   ]
  },
  {
   "cell_type": "code",
   "execution_count": 14,
   "id": "c8c23d49-2aa4-4cf0-973a-33c52d94e1b5",
   "metadata": {},
   "outputs": [
    {
     "name": "stdout",
     "output_type": "stream",
     "text": [
      "Coefficient [9508.79656857]\n",
      "Intercept 24898.074939042686\n"
     ]
    }
   ],
   "source": [
    "print ('Coefficient', lr.coef_)\n",
    "print ('Intercept', lr.intercept_)"
   ]
  },
  {
   "cell_type": "code",
   "execution_count": 15,
   "id": "736b2836-b826-4f8a-8330-70f59a2fbee2",
   "metadata": {},
   "outputs": [
    {
     "name": "stdout",
     "output_type": "stream",
     "text": [
      "    YearsExperience  Salary  Salary Prediction    Difference\n",
      "0               1.1   39343       35357.751164   3985.248836\n",
      "1               1.3   46205       37259.510478   8945.489522\n",
      "2               1.5   37731       39161.269792  -1430.269792\n",
      "3               2.0   43525       43915.668076   -390.668076\n",
      "4               2.2   39891       45817.427390  -5926.427390\n",
      "5               2.9   56642       52473.584988   4168.415012\n",
      "6               3.0   60150       53424.464645   6725.535355\n",
      "7               3.2   54445       55326.223958   -881.223958\n",
      "8               3.2   64445       55326.223958   9118.776042\n",
      "9               3.7   57189       60080.622243  -2891.622243\n",
      "10              3.9   63218       61982.381556   1235.618444\n",
      "11              4.0   55794       62933.261213  -7139.261213\n",
      "12              4.0   56957       62933.261213  -5976.261213\n",
      "13              4.1   57081       63884.140870  -6803.140870\n",
      "14              4.5   61111       67687.659498  -6576.659498\n",
      "15              4.9   67938       71491.178125  -3553.178125\n",
      "16              5.1   66029       73392.937439  -7363.937439\n",
      "17              5.3   83088       75294.696752   7793.303248\n",
      "18              5.9   81363       80999.974694    363.025306\n",
      "19              6.0   93940       81950.854350  11989.145650\n",
      "20              6.8   91738       89557.891605   2180.108395\n",
      "21              7.1   98273       92410.530576   5862.469424\n",
      "22              7.9  101302      100017.567831   1284.432169\n",
      "23              8.2  113812      102870.206801  10941.793199\n",
      "24              8.7  109431      107624.605086   1806.394914\n",
      "25              9.0  105582      110477.244056  -4895.244056\n",
      "26              9.5  116969      115231.642340   1737.357660\n",
      "27              9.6  112635      116182.521997  -3547.521997\n",
      "28             10.3  122391      122838.679595   -447.679595\n",
      "29             10.5  121872      124740.438909  -2868.438909\n"
     ]
    }
   ],
   "source": [
    "y_pred_final = pd.DataFrame(lr.predict(x),columns= ['Salary Prediction'])\n",
    "result = pd.concat([df1,y_pred_final], axis =1)\n",
    "result['Difference'] = df1['Salary']-y_pred_final['Salary Prediction']\n",
    "print (result)"
   ]
  },
  {
   "cell_type": "code",
   "execution_count": 16,
   "id": "07de0771-c1ce-4623-b34c-c9cd25cca14c",
   "metadata": {},
   "outputs": [
    {
     "name": "stdout",
     "output_type": "stream",
     "text": [
      "0.9564540996132017\n"
     ]
    }
   ],
   "source": [
    "from sklearn.metrics import r2_score\n",
    "accuracy = r2_score(df1['Salary'],y_pred_final)\n",
    "print (accuracy)"
   ]
  },
  {
   "cell_type": "code",
   "execution_count": 17,
   "id": "111682d5-d78f-410d-abcd-e4d4647e2f40",
   "metadata": {},
   "outputs": [
    {
     "data": {
      "text/plain": [
       "[    YearsExperience\n",
       " 11              4.0\n",
       " 19              6.0\n",
       " 9               3.7\n",
       " 1               1.3\n",
       " 0               1.1\n",
       " 14              4.5\n",
       " 22              7.9\n",
       " 23              8.2\n",
       " 16              5.1\n",
       " 6               3.0\n",
       " 10              3.9\n",
       " 25              9.0\n",
       " 17              5.3\n",
       " 7               3.2\n",
       " 27              9.6\n",
       " 5               2.9\n",
       " 21              7.1\n",
       " 18              5.9\n",
       " 3               2.0\n",
       " 12              4.0\n",
       " 13              4.1\n",
       " 2               1.5,\n",
       "     YearsExperience\n",
       " 20              6.8\n",
       " 8               3.2\n",
       " 28             10.3\n",
       " 4               2.2\n",
       " 24              8.7\n",
       " 26              9.5\n",
       " 15              4.9\n",
       " 29             10.5]"
      ]
     },
     "execution_count": 17,
     "metadata": {},
     "output_type": "execute_result"
    }
   ],
   "source": [
    "from sklearn.model_selection import train_test_split\n",
    "train_test_split(x)"
   ]
  },
  {
   "cell_type": "code",
   "execution_count": 18,
   "id": "d6c3a31c-a6a8-4979-bbb9-867703abe593",
   "metadata": {},
   "outputs": [
    {
     "data": {
      "text/plain": [
       "[    YearsExperience\n",
       " 24              8.7\n",
       " 20              6.8\n",
       " 12              4.0\n",
       " 2               1.5\n",
       " 14              4.5\n",
       " 10              3.9\n",
       " 21              7.1\n",
       " 8               3.2\n",
       " 13              4.1\n",
       " 0               1.1\n",
       " 18              5.9\n",
       " 3               2.0\n",
       " 19              6.0\n",
       " 11              4.0\n",
       " 29             10.5\n",
       " 22              7.9\n",
       " 1               1.3\n",
       " 27              9.6\n",
       " 17              5.3\n",
       " 6               3.0\n",
       " 25              9.0\n",
       " 16              5.1\n",
       " 23              8.2\n",
       " 7               3.2,\n",
       "     YearsExperience\n",
       " 9               3.7\n",
       " 28             10.3\n",
       " 26              9.5\n",
       " 5               2.9\n",
       " 4               2.2\n",
       " 15              4.9]"
      ]
     },
     "execution_count": 18,
     "metadata": {},
     "output_type": "execute_result"
    }
   ],
   "source": [
    "from sklearn.model_selection import train_test_split\n",
    "train_test_split(x,test_size = .2)"
   ]
  },
  {
   "cell_type": "code",
   "execution_count": 19,
   "id": "638d1e99-28da-4024-8f71-6c6818dfb84c",
   "metadata": {},
   "outputs": [
    {
     "data": {
      "text/plain": [
       "[    YearsExperience\n",
       " 9               3.7\n",
       " 11              4.0\n",
       " 23              8.2\n",
       " 27              9.6\n",
       " 15              4.9\n",
       " 25              9.0\n",
       " 24              8.7\n",
       " 14              4.5\n",
       " 10              3.9\n",
       " 17              5.3\n",
       " 18              5.9\n",
       " 5               2.9\n",
       " 0               1.1\n",
       " 22              7.9\n",
       " 1               1.3\n",
       " 6               3.0\n",
       " 7               3.2\n",
       " 28             10.3\n",
       " 13              4.1\n",
       " 16              5.1\n",
       " 19              6.0\n",
       " 4               2.2\n",
       " 29             10.5\n",
       " 21              7.1,\n",
       "     YearsExperience\n",
       " 20              6.8\n",
       " 26              9.5\n",
       " 3               2.0\n",
       " 2               1.5\n",
       " 8               3.2\n",
       " 12              4.0]"
      ]
     },
     "execution_count": 19,
     "metadata": {},
     "output_type": "execute_result"
    }
   ],
   "source": [
    "from sklearn.model_selection import train_test_split\n",
    "train_test_split(x,test_size = .2)"
   ]
  },
  {
   "cell_type": "code",
   "execution_count": 20,
   "id": "d0b8afa7-1b84-4db5-bbb8-781952bf80cb",
   "metadata": {},
   "outputs": [
    {
     "data": {
      "text/plain": [
       "[    YearsExperience\n",
       " 19              6.0\n",
       " 26              9.5\n",
       " 7               3.2\n",
       " 10              3.9\n",
       " 25              9.0\n",
       " 28             10.3\n",
       " 4               2.2\n",
       " 15              4.9\n",
       " 9               3.7\n",
       " 16              5.1\n",
       " 2               1.5\n",
       " 14              4.5\n",
       " 5               2.9\n",
       " 11              4.0\n",
       " 29             10.5\n",
       " 0               1.1\n",
       " 21              7.1\n",
       " 3               2.0\n",
       " 1               1.3\n",
       " 17              5.3\n",
       " 20              6.8\n",
       " 8               3.2\n",
       " 12              4.0\n",
       " 18              5.9,\n",
       "     YearsExperience\n",
       " 24              8.7\n",
       " 22              7.9\n",
       " 13              4.1\n",
       " 27              9.6\n",
       " 23              8.2\n",
       " 6               3.0,\n",
       " 19     93940\n",
       " 26    116969\n",
       " 7      54445\n",
       " 10     63218\n",
       " 25    105582\n",
       " 28    122391\n",
       " 4      39891\n",
       " 15     67938\n",
       " 9      57189\n",
       " 16     66029\n",
       " 2      37731\n",
       " 14     61111\n",
       " 5      56642\n",
       " 11     55794\n",
       " 29    121872\n",
       " 0      39343\n",
       " 21     98273\n",
       " 3      43525\n",
       " 1      46205\n",
       " 17     83088\n",
       " 20     91738\n",
       " 8      64445\n",
       " 12     56957\n",
       " 18     81363\n",
       " Name: Salary, dtype: int64,\n",
       " 24    109431\n",
       " 22    101302\n",
       " 13     57081\n",
       " 27    112635\n",
       " 23    113812\n",
       " 6      60150\n",
       " Name: Salary, dtype: int64]"
      ]
     },
     "execution_count": 20,
     "metadata": {},
     "output_type": "execute_result"
    }
   ],
   "source": [
    "from sklearn.model_selection import train_test_split\n",
    "train_test_split(x,y,test_size = .2)"
   ]
  },
  {
   "cell_type": "code",
   "execution_count": 21,
   "id": "74d2264d-993d-428b-9ad6-b0e3ed902f89",
   "metadata": {},
   "outputs": [
    {
     "name": "stdout",
     "output_type": "stream",
     "text": [
      "(24, 1)\n"
     ]
    }
   ],
   "source": [
    "from sklearn.model_selection import train_test_split\n",
    "x_train, x_test ,y_train, y_test=  train_test_split(x,y,test_size = .2)\n",
    "print (x_train.shape)"
   ]
  },
  {
   "cell_type": "code",
   "execution_count": 22,
   "id": "34afa138-3e81-4e44-a56f-1429bdcf013e",
   "metadata": {},
   "outputs": [
    {
     "name": "stdout",
     "output_type": "stream",
     "text": [
      "X Shape- (30, 1)\n",
      "Y Shape- (30,)\n",
      "X_Train Shape- (24, 1)\n",
      "Y_Train Shape- (24,)\n",
      "X_Test Shape- (6, 1)\n",
      "Y_Test Shape- (6,)\n"
     ]
    }
   ],
   "source": [
    "from sklearn.model_selection import train_test_split\n",
    "x_train, x_test,y_train,y_test = train_test_split(x,y,test_size=0.2)\n",
    "print ('X Shape-',x.shape)\n",
    "print ('Y Shape-', y.shape)\n",
    "print ('X_Train Shape-',x_train.shape)\n",
    "print ('Y_Train Shape-',y_train.shape)\n",
    "print ('X_Test Shape-',x_test.shape)\n",
    "print ('Y_Test Shape-',y_test.shape)"
   ]
  },
  {
   "cell_type": "code",
   "execution_count": 23,
   "id": "bfbc1686-0298-4603-a33e-ca2f4d71b2ff",
   "metadata": {},
   "outputs": [
    {
     "data": {
      "text/html": [
       "<style>#sk-container-id-1 {\n",
       "  /* Definition of color scheme common for light and dark mode */\n",
       "  --sklearn-color-text: black;\n",
       "  --sklearn-color-line: gray;\n",
       "  /* Definition of color scheme for unfitted estimators */\n",
       "  --sklearn-color-unfitted-level-0: #fff5e6;\n",
       "  --sklearn-color-unfitted-level-1: #f6e4d2;\n",
       "  --sklearn-color-unfitted-level-2: #ffe0b3;\n",
       "  --sklearn-color-unfitted-level-3: chocolate;\n",
       "  /* Definition of color scheme for fitted estimators */\n",
       "  --sklearn-color-fitted-level-0: #f0f8ff;\n",
       "  --sklearn-color-fitted-level-1: #d4ebff;\n",
       "  --sklearn-color-fitted-level-2: #b3dbfd;\n",
       "  --sklearn-color-fitted-level-3: cornflowerblue;\n",
       "\n",
       "  /* Specific color for light theme */\n",
       "  --sklearn-color-text-on-default-background: var(--sg-text-color, var(--theme-code-foreground, var(--jp-content-font-color1, black)));\n",
       "  --sklearn-color-background: var(--sg-background-color, var(--theme-background, var(--jp-layout-color0, white)));\n",
       "  --sklearn-color-border-box: var(--sg-text-color, var(--theme-code-foreground, var(--jp-content-font-color1, black)));\n",
       "  --sklearn-color-icon: #696969;\n",
       "\n",
       "  @media (prefers-color-scheme: dark) {\n",
       "    /* Redefinition of color scheme for dark theme */\n",
       "    --sklearn-color-text-on-default-background: var(--sg-text-color, var(--theme-code-foreground, var(--jp-content-font-color1, white)));\n",
       "    --sklearn-color-background: var(--sg-background-color, var(--theme-background, var(--jp-layout-color0, #111)));\n",
       "    --sklearn-color-border-box: var(--sg-text-color, var(--theme-code-foreground, var(--jp-content-font-color1, white)));\n",
       "    --sklearn-color-icon: #878787;\n",
       "  }\n",
       "}\n",
       "\n",
       "#sk-container-id-1 {\n",
       "  color: var(--sklearn-color-text);\n",
       "}\n",
       "\n",
       "#sk-container-id-1 pre {\n",
       "  padding: 0;\n",
       "}\n",
       "\n",
       "#sk-container-id-1 input.sk-hidden--visually {\n",
       "  border: 0;\n",
       "  clip: rect(1px 1px 1px 1px);\n",
       "  clip: rect(1px, 1px, 1px, 1px);\n",
       "  height: 1px;\n",
       "  margin: -1px;\n",
       "  overflow: hidden;\n",
       "  padding: 0;\n",
       "  position: absolute;\n",
       "  width: 1px;\n",
       "}\n",
       "\n",
       "#sk-container-id-1 div.sk-dashed-wrapped {\n",
       "  border: 1px dashed var(--sklearn-color-line);\n",
       "  margin: 0 0.4em 0.5em 0.4em;\n",
       "  box-sizing: border-box;\n",
       "  padding-bottom: 0.4em;\n",
       "  background-color: var(--sklearn-color-background);\n",
       "}\n",
       "\n",
       "#sk-container-id-1 div.sk-container {\n",
       "  /* jupyter's `normalize.less` sets `[hidden] { display: none; }`\n",
       "     but bootstrap.min.css set `[hidden] { display: none !important; }`\n",
       "     so we also need the `!important` here to be able to override the\n",
       "     default hidden behavior on the sphinx rendered scikit-learn.org.\n",
       "     See: https://github.com/scikit-learn/scikit-learn/issues/21755 */\n",
       "  display: inline-block !important;\n",
       "  position: relative;\n",
       "}\n",
       "\n",
       "#sk-container-id-1 div.sk-text-repr-fallback {\n",
       "  display: none;\n",
       "}\n",
       "\n",
       "div.sk-parallel-item,\n",
       "div.sk-serial,\n",
       "div.sk-item {\n",
       "  /* draw centered vertical line to link estimators */\n",
       "  background-image: linear-gradient(var(--sklearn-color-text-on-default-background), var(--sklearn-color-text-on-default-background));\n",
       "  background-size: 2px 100%;\n",
       "  background-repeat: no-repeat;\n",
       "  background-position: center center;\n",
       "}\n",
       "\n",
       "/* Parallel-specific style estimator block */\n",
       "\n",
       "#sk-container-id-1 div.sk-parallel-item::after {\n",
       "  content: \"\";\n",
       "  width: 100%;\n",
       "  border-bottom: 2px solid var(--sklearn-color-text-on-default-background);\n",
       "  flex-grow: 1;\n",
       "}\n",
       "\n",
       "#sk-container-id-1 div.sk-parallel {\n",
       "  display: flex;\n",
       "  align-items: stretch;\n",
       "  justify-content: center;\n",
       "  background-color: var(--sklearn-color-background);\n",
       "  position: relative;\n",
       "}\n",
       "\n",
       "#sk-container-id-1 div.sk-parallel-item {\n",
       "  display: flex;\n",
       "  flex-direction: column;\n",
       "}\n",
       "\n",
       "#sk-container-id-1 div.sk-parallel-item:first-child::after {\n",
       "  align-self: flex-end;\n",
       "  width: 50%;\n",
       "}\n",
       "\n",
       "#sk-container-id-1 div.sk-parallel-item:last-child::after {\n",
       "  align-self: flex-start;\n",
       "  width: 50%;\n",
       "}\n",
       "\n",
       "#sk-container-id-1 div.sk-parallel-item:only-child::after {\n",
       "  width: 0;\n",
       "}\n",
       "\n",
       "/* Serial-specific style estimator block */\n",
       "\n",
       "#sk-container-id-1 div.sk-serial {\n",
       "  display: flex;\n",
       "  flex-direction: column;\n",
       "  align-items: center;\n",
       "  background-color: var(--sklearn-color-background);\n",
       "  padding-right: 1em;\n",
       "  padding-left: 1em;\n",
       "}\n",
       "\n",
       "\n",
       "/* Toggleable style: style used for estimator/Pipeline/ColumnTransformer box that is\n",
       "clickable and can be expanded/collapsed.\n",
       "- Pipeline and ColumnTransformer use this feature and define the default style\n",
       "- Estimators will overwrite some part of the style using the `sk-estimator` class\n",
       "*/\n",
       "\n",
       "/* Pipeline and ColumnTransformer style (default) */\n",
       "\n",
       "#sk-container-id-1 div.sk-toggleable {\n",
       "  /* Default theme specific background. It is overwritten whether we have a\n",
       "  specific estimator or a Pipeline/ColumnTransformer */\n",
       "  background-color: var(--sklearn-color-background);\n",
       "}\n",
       "\n",
       "/* Toggleable label */\n",
       "#sk-container-id-1 label.sk-toggleable__label {\n",
       "  cursor: pointer;\n",
       "  display: block;\n",
       "  width: 100%;\n",
       "  margin-bottom: 0;\n",
       "  padding: 0.5em;\n",
       "  box-sizing: border-box;\n",
       "  text-align: center;\n",
       "}\n",
       "\n",
       "#sk-container-id-1 label.sk-toggleable__label-arrow:before {\n",
       "  /* Arrow on the left of the label */\n",
       "  content: \"▸\";\n",
       "  float: left;\n",
       "  margin-right: 0.25em;\n",
       "  color: var(--sklearn-color-icon);\n",
       "}\n",
       "\n",
       "#sk-container-id-1 label.sk-toggleable__label-arrow:hover:before {\n",
       "  color: var(--sklearn-color-text);\n",
       "}\n",
       "\n",
       "/* Toggleable content - dropdown */\n",
       "\n",
       "#sk-container-id-1 div.sk-toggleable__content {\n",
       "  max-height: 0;\n",
       "  max-width: 0;\n",
       "  overflow: hidden;\n",
       "  text-align: left;\n",
       "  /* unfitted */\n",
       "  background-color: var(--sklearn-color-unfitted-level-0);\n",
       "}\n",
       "\n",
       "#sk-container-id-1 div.sk-toggleable__content.fitted {\n",
       "  /* fitted */\n",
       "  background-color: var(--sklearn-color-fitted-level-0);\n",
       "}\n",
       "\n",
       "#sk-container-id-1 div.sk-toggleable__content pre {\n",
       "  margin: 0.2em;\n",
       "  border-radius: 0.25em;\n",
       "  color: var(--sklearn-color-text);\n",
       "  /* unfitted */\n",
       "  background-color: var(--sklearn-color-unfitted-level-0);\n",
       "}\n",
       "\n",
       "#sk-container-id-1 div.sk-toggleable__content.fitted pre {\n",
       "  /* unfitted */\n",
       "  background-color: var(--sklearn-color-fitted-level-0);\n",
       "}\n",
       "\n",
       "#sk-container-id-1 input.sk-toggleable__control:checked~div.sk-toggleable__content {\n",
       "  /* Expand drop-down */\n",
       "  max-height: 200px;\n",
       "  max-width: 100%;\n",
       "  overflow: auto;\n",
       "}\n",
       "\n",
       "#sk-container-id-1 input.sk-toggleable__control:checked~label.sk-toggleable__label-arrow:before {\n",
       "  content: \"▾\";\n",
       "}\n",
       "\n",
       "/* Pipeline/ColumnTransformer-specific style */\n",
       "\n",
       "#sk-container-id-1 div.sk-label input.sk-toggleable__control:checked~label.sk-toggleable__label {\n",
       "  color: var(--sklearn-color-text);\n",
       "  background-color: var(--sklearn-color-unfitted-level-2);\n",
       "}\n",
       "\n",
       "#sk-container-id-1 div.sk-label.fitted input.sk-toggleable__control:checked~label.sk-toggleable__label {\n",
       "  background-color: var(--sklearn-color-fitted-level-2);\n",
       "}\n",
       "\n",
       "/* Estimator-specific style */\n",
       "\n",
       "/* Colorize estimator box */\n",
       "#sk-container-id-1 div.sk-estimator input.sk-toggleable__control:checked~label.sk-toggleable__label {\n",
       "  /* unfitted */\n",
       "  background-color: var(--sklearn-color-unfitted-level-2);\n",
       "}\n",
       "\n",
       "#sk-container-id-1 div.sk-estimator.fitted input.sk-toggleable__control:checked~label.sk-toggleable__label {\n",
       "  /* fitted */\n",
       "  background-color: var(--sklearn-color-fitted-level-2);\n",
       "}\n",
       "\n",
       "#sk-container-id-1 div.sk-label label.sk-toggleable__label,\n",
       "#sk-container-id-1 div.sk-label label {\n",
       "  /* The background is the default theme color */\n",
       "  color: var(--sklearn-color-text-on-default-background);\n",
       "}\n",
       "\n",
       "/* On hover, darken the color of the background */\n",
       "#sk-container-id-1 div.sk-label:hover label.sk-toggleable__label {\n",
       "  color: var(--sklearn-color-text);\n",
       "  background-color: var(--sklearn-color-unfitted-level-2);\n",
       "}\n",
       "\n",
       "/* Label box, darken color on hover, fitted */\n",
       "#sk-container-id-1 div.sk-label.fitted:hover label.sk-toggleable__label.fitted {\n",
       "  color: var(--sklearn-color-text);\n",
       "  background-color: var(--sklearn-color-fitted-level-2);\n",
       "}\n",
       "\n",
       "/* Estimator label */\n",
       "\n",
       "#sk-container-id-1 div.sk-label label {\n",
       "  font-family: monospace;\n",
       "  font-weight: bold;\n",
       "  display: inline-block;\n",
       "  line-height: 1.2em;\n",
       "}\n",
       "\n",
       "#sk-container-id-1 div.sk-label-container {\n",
       "  text-align: center;\n",
       "}\n",
       "\n",
       "/* Estimator-specific */\n",
       "#sk-container-id-1 div.sk-estimator {\n",
       "  font-family: monospace;\n",
       "  border: 1px dotted var(--sklearn-color-border-box);\n",
       "  border-radius: 0.25em;\n",
       "  box-sizing: border-box;\n",
       "  margin-bottom: 0.5em;\n",
       "  /* unfitted */\n",
       "  background-color: var(--sklearn-color-unfitted-level-0);\n",
       "}\n",
       "\n",
       "#sk-container-id-1 div.sk-estimator.fitted {\n",
       "  /* fitted */\n",
       "  background-color: var(--sklearn-color-fitted-level-0);\n",
       "}\n",
       "\n",
       "/* on hover */\n",
       "#sk-container-id-1 div.sk-estimator:hover {\n",
       "  /* unfitted */\n",
       "  background-color: var(--sklearn-color-unfitted-level-2);\n",
       "}\n",
       "\n",
       "#sk-container-id-1 div.sk-estimator.fitted:hover {\n",
       "  /* fitted */\n",
       "  background-color: var(--sklearn-color-fitted-level-2);\n",
       "}\n",
       "\n",
       "/* Specification for estimator info (e.g. \"i\" and \"?\") */\n",
       "\n",
       "/* Common style for \"i\" and \"?\" */\n",
       "\n",
       ".sk-estimator-doc-link,\n",
       "a:link.sk-estimator-doc-link,\n",
       "a:visited.sk-estimator-doc-link {\n",
       "  float: right;\n",
       "  font-size: smaller;\n",
       "  line-height: 1em;\n",
       "  font-family: monospace;\n",
       "  background-color: var(--sklearn-color-background);\n",
       "  border-radius: 1em;\n",
       "  height: 1em;\n",
       "  width: 1em;\n",
       "  text-decoration: none !important;\n",
       "  margin-left: 1ex;\n",
       "  /* unfitted */\n",
       "  border: var(--sklearn-color-unfitted-level-1) 1pt solid;\n",
       "  color: var(--sklearn-color-unfitted-level-1);\n",
       "}\n",
       "\n",
       ".sk-estimator-doc-link.fitted,\n",
       "a:link.sk-estimator-doc-link.fitted,\n",
       "a:visited.sk-estimator-doc-link.fitted {\n",
       "  /* fitted */\n",
       "  border: var(--sklearn-color-fitted-level-1) 1pt solid;\n",
       "  color: var(--sklearn-color-fitted-level-1);\n",
       "}\n",
       "\n",
       "/* On hover */\n",
       "div.sk-estimator:hover .sk-estimator-doc-link:hover,\n",
       ".sk-estimator-doc-link:hover,\n",
       "div.sk-label-container:hover .sk-estimator-doc-link:hover,\n",
       ".sk-estimator-doc-link:hover {\n",
       "  /* unfitted */\n",
       "  background-color: var(--sklearn-color-unfitted-level-3);\n",
       "  color: var(--sklearn-color-background);\n",
       "  text-decoration: none;\n",
       "}\n",
       "\n",
       "div.sk-estimator.fitted:hover .sk-estimator-doc-link.fitted:hover,\n",
       ".sk-estimator-doc-link.fitted:hover,\n",
       "div.sk-label-container:hover .sk-estimator-doc-link.fitted:hover,\n",
       ".sk-estimator-doc-link.fitted:hover {\n",
       "  /* fitted */\n",
       "  background-color: var(--sklearn-color-fitted-level-3);\n",
       "  color: var(--sklearn-color-background);\n",
       "  text-decoration: none;\n",
       "}\n",
       "\n",
       "/* Span, style for the box shown on hovering the info icon */\n",
       ".sk-estimator-doc-link span {\n",
       "  display: none;\n",
       "  z-index: 9999;\n",
       "  position: relative;\n",
       "  font-weight: normal;\n",
       "  right: .2ex;\n",
       "  padding: .5ex;\n",
       "  margin: .5ex;\n",
       "  width: min-content;\n",
       "  min-width: 20ex;\n",
       "  max-width: 50ex;\n",
       "  color: var(--sklearn-color-text);\n",
       "  box-shadow: 2pt 2pt 4pt #999;\n",
       "  /* unfitted */\n",
       "  background: var(--sklearn-color-unfitted-level-0);\n",
       "  border: .5pt solid var(--sklearn-color-unfitted-level-3);\n",
       "}\n",
       "\n",
       ".sk-estimator-doc-link.fitted span {\n",
       "  /* fitted */\n",
       "  background: var(--sklearn-color-fitted-level-0);\n",
       "  border: var(--sklearn-color-fitted-level-3);\n",
       "}\n",
       "\n",
       ".sk-estimator-doc-link:hover span {\n",
       "  display: block;\n",
       "}\n",
       "\n",
       "/* \"?\"-specific style due to the `<a>` HTML tag */\n",
       "\n",
       "#sk-container-id-1 a.estimator_doc_link {\n",
       "  float: right;\n",
       "  font-size: 1rem;\n",
       "  line-height: 1em;\n",
       "  font-family: monospace;\n",
       "  background-color: var(--sklearn-color-background);\n",
       "  border-radius: 1rem;\n",
       "  height: 1rem;\n",
       "  width: 1rem;\n",
       "  text-decoration: none;\n",
       "  /* unfitted */\n",
       "  color: var(--sklearn-color-unfitted-level-1);\n",
       "  border: var(--sklearn-color-unfitted-level-1) 1pt solid;\n",
       "}\n",
       "\n",
       "#sk-container-id-1 a.estimator_doc_link.fitted {\n",
       "  /* fitted */\n",
       "  border: var(--sklearn-color-fitted-level-1) 1pt solid;\n",
       "  color: var(--sklearn-color-fitted-level-1);\n",
       "}\n",
       "\n",
       "/* On hover */\n",
       "#sk-container-id-1 a.estimator_doc_link:hover {\n",
       "  /* unfitted */\n",
       "  background-color: var(--sklearn-color-unfitted-level-3);\n",
       "  color: var(--sklearn-color-background);\n",
       "  text-decoration: none;\n",
       "}\n",
       "\n",
       "#sk-container-id-1 a.estimator_doc_link.fitted:hover {\n",
       "  /* fitted */\n",
       "  background-color: var(--sklearn-color-fitted-level-3);\n",
       "}\n",
       "</style><div id=\"sk-container-id-1\" class=\"sk-top-container\"><div class=\"sk-text-repr-fallback\"><pre>LinearRegression()</pre><b>In a Jupyter environment, please rerun this cell to show the HTML representation or trust the notebook. <br />On GitHub, the HTML representation is unable to render, please try loading this page with nbviewer.org.</b></div><div class=\"sk-container\" hidden><div class=\"sk-item\"><div class=\"sk-estimator fitted sk-toggleable\"><input class=\"sk-toggleable__control sk-hidden--visually\" id=\"sk-estimator-id-1\" type=\"checkbox\" checked><label for=\"sk-estimator-id-1\" class=\"sk-toggleable__label fitted sk-toggleable__label-arrow fitted\">&nbsp;&nbsp;LinearRegression<a class=\"sk-estimator-doc-link fitted\" rel=\"noreferrer\" target=\"_blank\" href=\"https://scikit-learn.org/1.4/modules/generated/sklearn.linear_model.LinearRegression.html\">?<span>Documentation for LinearRegression</span></a><span class=\"sk-estimator-doc-link fitted\">i<span>Fitted</span></span></label><div class=\"sk-toggleable__content fitted\"><pre>LinearRegression()</pre></div> </div></div></div></div>"
      ],
      "text/plain": [
       "LinearRegression()"
      ]
     },
     "execution_count": 23,
     "metadata": {},
     "output_type": "execute_result"
    }
   ],
   "source": [
    "from sklearn.linear_model import LinearRegression\n",
    "lr =LinearRegression()\n",
    "lr.fit (x_train,y_train)"
   ]
  },
  {
   "cell_type": "code",
   "execution_count": 24,
   "id": "68b66b84-cc22-4aaf-a739-2eb56f85d2d2",
   "metadata": {},
   "outputs": [
    {
     "data": {
      "text/plain": [
       "array([ 64093.15939535, 102884.94583865, 115815.54131975,  92725.19224636,\n",
       "        72405.68506177,  64093.15939535])"
      ]
     },
     "execution_count": 24,
     "metadata": {},
     "output_type": "execute_result"
    }
   ],
   "source": [
    "y_pred = lr.predict (x_test)\n",
    "y_pred"
   ]
  },
  {
   "cell_type": "code",
   "execution_count": 25,
   "id": "3b32bfb7-7547-4a45-9ee3-739cd07699f4",
   "metadata": {},
   "outputs": [
    {
     "data": {
      "text/plain": [
       "12     56957\n",
       "23    113812\n",
       "27    112635\n",
       "21     98273\n",
       "15     67938\n",
       "11     55794\n",
       "Name: Salary, dtype: int64"
      ]
     },
     "execution_count": 25,
     "metadata": {},
     "output_type": "execute_result"
    }
   ],
   "source": [
    "y_test\n"
   ]
  },
  {
   "cell_type": "code",
   "execution_count": 26,
   "id": "12727c54-7912-477a-b4fd-f4cf53bb1e30",
   "metadata": {},
   "outputs": [
    {
     "name": "stdout",
     "output_type": "stream",
     "text": [
      "    Experience    Salary     Prediction  Difference\n",
      "12         NaN   56957.0            NaN         NaN\n",
      "23         NaN  113812.0            NaN         NaN\n",
      "27         NaN  112635.0            NaN         NaN\n",
      "21         NaN   98273.0            NaN         NaN\n",
      "15         NaN   67938.0            NaN         NaN\n",
      "11         NaN   55794.0            NaN         NaN\n",
      "0          NaN       NaN   64093.159395         NaN\n",
      "1          NaN       NaN  102884.945839         NaN\n",
      "2          NaN       NaN  115815.541320         NaN\n",
      "3          NaN       NaN   92725.192246         NaN\n",
      "4          NaN       NaN   72405.685062         NaN\n",
      "5          NaN       NaN   64093.159395         NaN\n"
     ]
    }
   ],
   "source": [
    "df_x_test =pd.DataFrame(x_test, columns = ['Experience'])\n",
    "df_y_test= pd.DataFrame(y_test, columns = ['Salary'])\n",
    "df_y_test_pred =  pd.DataFrame(y_pred, columns = ['Prediction'])\n",
    "df_diff =df_y_test- df_y_test_pred\n",
    "y_test_pred = pd.concat ([df_x_test ,df_y_test, df_y_test_pred ],axis =1)\n",
    "y_test_pred['Difference'] =df_y_test ['Salary']- df_y_test_pred['Prediction']\n",
    "print (y_test_pred)"
   ]
  },
  {
   "cell_type": "code",
   "execution_count": 27,
   "id": "589f35c8-0ab7-46c5-b180-8ce859630088",
   "metadata": {},
   "outputs": [
    {
     "data": {
      "image/png": "[encoded data removed]",
      "text/plain": [
       "<Figure size 640x480 with 1 Axes>"
      ]
     },
     "metadata": {},
     "output_type": "display_data"
    }
   ],
   "source": [
    "plt.scatter (x_test,y_test)\n",
    "plt.plot (x_test,y_pred,'r')\n",
    "plt.show()"
   ]
  },
  {
   "cell_type": "code",
   "execution_count": 28,
   "id": "7ffdf8ef-3960-4a9f-888c-4e4a5b66c6b6",
   "metadata": {},
   "outputs": [
    {
     "name": "stdout",
     "output_type": "stream",
     "text": [
      "0.9188380171766507\n"
     ]
    }
   ],
   "source": [
    "from sklearn.metrics import r2_score\n",
    "accuracy = r2_score(y_test,y_pred)\n",
    "print (accuracy)"
   ]
  },
  {
   "cell_type": "code",
   "execution_count": 29,
   "id": "0d0c861e-5a78-49c9-b611-c2cb97a6ed9c",
   "metadata": {},
   "outputs": [
    {
     "data": {
      "image/png": "[encoded data removed]",
      "text/plain": [
       "<Figure size 640x480 with 1 Axes>"
      ]
     },
     "metadata": {},
     "output_type": "display_data"
    }
   ],
   "source": [
    "plt.scatter (x_test,y_test)\n",
    "plt.plot (x_test,y_pred,'r')\n",
    "plt.show()"
   ]
  },
  {
   "cell_type": "code",
   "execution_count": 30,
   "id": "9bb8e4e3-2f60-4e95-9751-32c67930d0cc",
   "metadata": {},
   "outputs": [
    {
     "data": {
      "text/plain": [
       "array([9236.13962936])"
      ]
     },
     "execution_count": 30,
     "metadata": {},
     "output_type": "execute_result"
    }
   ],
   "source": [
    "lr.coef_         # y = mx+c\n"
   ]
  },
  {
   "cell_type": "code",
   "execution_count": 31,
   "id": "b9267523-2676-43e9-975e-d95e087d6116",
   "metadata": {},
   "outputs": [
    {
     "data": {
      "text/plain": [
       "27148.600877929224"
      ]
     },
     "execution_count": 31,
     "metadata": {},
     "output_type": "execute_result"
    }
   ],
   "source": [
    "lr.intercept_"
   ]
  },
  {
   "cell_type": "code",
   "execution_count": 32,
   "id": "1edfea5d-6c53-4ed8-959e-f922a3bcec99",
   "metadata": {},
   "outputs": [
    {
     "data": {
      "text/plain": [
       "115873.3447605059"
      ]
     },
     "execution_count": 32,
     "metadata": {},
     "output_type": "execute_result"
    }
   ],
   "source": [
    "9364.5790055*9.5 +26909.844208255905\n"
   ]
  },
  {
   "cell_type": "code",
   "execution_count": 33,
   "id": "3ffc9869-896b-4286-beaf-23271ae4cda6",
   "metadata": {},
   "outputs": [
    {
     "data": {
      "text/plain": [
       "40956.71271650591"
      ]
     },
     "execution_count": 33,
     "metadata": {},
     "output_type": "execute_result"
    }
   ],
   "source": [
    "9364.5790055*1.5 +26909.844208255905\n"
   ]
  },
  {
   "cell_type": "code",
   "execution_count": 34,
   "id": "ff5b1c34-5798-4e4b-9d1a-0bb33f948500",
   "metadata": {},
   "outputs": [
    {
     "name": "stdout",
     "output_type": "stream",
     "text": [
      "    Experience    Salary     Prediction  Difference\n",
      "12         NaN   56957.0            NaN         NaN\n",
      "23         NaN  113812.0            NaN         NaN\n",
      "27         NaN  112635.0            NaN         NaN\n",
      "21         NaN   98273.0            NaN         NaN\n",
      "15         NaN   67938.0            NaN         NaN\n",
      "11         NaN   55794.0            NaN         NaN\n",
      "0          NaN       NaN   64093.159395         NaN\n",
      "1          NaN       NaN  102884.945839         NaN\n",
      "2          NaN       NaN  115815.541320         NaN\n",
      "3          NaN       NaN   92725.192246         NaN\n",
      "4          NaN       NaN   72405.685062         NaN\n",
      "5          NaN       NaN   64093.159395         NaN\n"
     ]
    }
   ],
   "source": [
    "print (y_test_pred)\n"
   ]
  },
  {
   "cell_type": "code",
   "execution_count": 35,
   "id": "c69392c4-a8b0-429d-b356-b8a4621370cb",
   "metadata": {},
   "outputs": [
    {
     "name": "stdout",
     "output_type": "stream",
     "text": [
      "[ 37308.35447022  39155.58239609  41002.81032196  45620.88013664\n",
      "  47468.10806251  53933.40580306  54857.019766    56704.24769187\n",
      "  56704.24769187  61322.31750655  63169.54543242  64093.15939535\n",
      "  64093.15939535  65016.77335829  68711.22921003  72405.68506177\n",
      "  74252.91298765  76100.14091352  81641.82469113  82565.43865407\n",
      "  89954.35035755  92725.19224636 100114.10394984 102884.94583865\n",
      " 107503.01565333 110273.85754213 114891.92735681 115815.54131975\n",
      " 122280.8390603  124128.06698617]\n"
     ]
    }
   ],
   "source": [
    "y_pred_final= lr.predict (x)\n",
    "print (y_pred_final)"
   ]
  },
  {
   "cell_type": "code",
   "execution_count": 36,
   "id": "654652b3-ed60-4ecb-a5bf-12b69715b3eb",
   "metadata": {},
   "outputs": [
    {
     "name": "stdout",
     "output_type": "stream",
     "text": [
      "    YearsExperience  Salary     Prediction    Difference\n",
      "0               1.1   39343   37308.354470   2034.645530\n",
      "1               1.3   46205   39155.582396   7049.417604\n",
      "2               1.5   37731   41002.810322  -3271.810322\n",
      "3               2.0   43525   45620.880137  -2095.880137\n",
      "4               2.2   39891   47468.108063  -7577.108063\n",
      "5               2.9   56642   53933.405803   2708.594197\n",
      "6               3.0   60150   54857.019766   5292.980234\n",
      "7               3.2   54445   56704.247692  -2259.247692\n",
      "8               3.2   64445   56704.247692   7740.752308\n",
      "9               3.7   57189   61322.317507  -4133.317507\n",
      "10              3.9   63218   63169.545432     48.454568\n",
      "11              4.0   55794   64093.159395  -8299.159395\n",
      "12              4.0   56957   64093.159395  -7136.159395\n",
      "13              4.1   57081   65016.773358  -7935.773358\n",
      "14              4.5   61111   68711.229210  -7600.229210\n",
      "15              4.9   67938   72405.685062  -4467.685062\n",
      "16              5.1   66029   74252.912988  -8223.912988\n",
      "17              5.3   83088   76100.140914   6987.859086\n",
      "18              5.9   81363   81641.824691   -278.824691\n",
      "19              6.0   93940   82565.438654  11374.561346\n",
      "20              6.8   91738   89954.350358   1783.649642\n",
      "21              7.1   98273   92725.192246   5547.807754\n",
      "22              7.9  101302  100114.103950   1187.896050\n",
      "23              8.2  113812  102884.945839  10927.054161\n",
      "24              8.7  109431  107503.015653   1927.984347\n",
      "25              9.0  105582  110273.857542  -4691.857542\n",
      "26              9.5  116969  114891.927357   2077.072643\n",
      "27              9.6  112635  115815.541320  -3180.541320\n",
      "28             10.3  122391  122280.839060    110.160940\n",
      "29             10.5  121872  124128.066986  -2256.066986\n"
     ]
    }
   ],
   "source": [
    "y_pred_final = pd.DataFrame(y_pred_final,columns= ['Prediction'])\n",
    "result = pd.concat([df1,y_pred_final], axis =1)\n",
    "result['Difference'] = result['Salary'] - result['Prediction']\n",
    "print (result)"
   ]
  },
  {
   "cell_type": "code",
   "execution_count": 37,
   "id": "ca16f445-9119-499a-8344-e7d6c00dccb3",
   "metadata": {},
   "outputs": [
    {
     "data": {
      "image/png": "[encoded data removed]",
      "text/plain": [
       "<Figure size 640x480 with 1 Axes>"
      ]
     },
     "metadata": {},
     "output_type": "display_data"
    }
   ],
   "source": [
    "plt.plot(x,y)\n",
    "plt.plot (x,y_pred_final,'red' )\n",
    "plt.show()"
   ]
  },
  {
   "cell_type": "code",
   "execution_count": 38,
   "id": "40da7f4a-ff0d-4289-8f85-becbf0c42620",
   "metadata": {},
   "outputs": [
    {
     "data": {
      "text/plain": [
       "0.9563999314805751"
      ]
     },
     "execution_count": 38,
     "metadata": {},
     "output_type": "execute_result"
    }
   ],
   "source": [
    "r2_score (y,y_pred_final)\n"
   ]
  },
  {
   "cell_type": "code",
   "execution_count": 39,
   "id": "1c1e9493-d5ea-4b3e-9f79-de11faf003f4",
   "metadata": {},
   "outputs": [],
   "source": [
    "result.to_excel ('22_jun_Lr.xlsx')\n"
   ]
  },
  {
   "cell_type": "code",
   "execution_count": 40,
   "id": "d05d4bd6-fa52-4292-a781-091110d5e13b",
   "metadata": {},
   "outputs": [
    {
     "data": {
      "text/html": [
       "<div>\n",
       "<style scoped>\n",
       "    .dataframe tbody tr th:only-of-type {\n",
       "        vertical-align: middle;\n",
       "    }\n",
       "\n",
       "    .dataframe tbody tr th {\n",
       "        vertical-align: top;\n",
       "    }\n",
       "\n",
       "    .dataframe thead th {\n",
       "        text-align: right;\n",
       "    }\n",
       "</style>\n",
       "<table border=\"1\" class=\"dataframe\">\n",
       "  <thead>\n",
       "    <tr style=\"text-align: right;\">\n",
       "      <th></th>\n",
       "      <th>YearsExperience</th>\n",
       "    </tr>\n",
       "  </thead>\n",
       "  <tbody>\n",
       "    <tr>\n",
       "      <th>12</th>\n",
       "      <td>4.0</td>\n",
       "    </tr>\n",
       "    <tr>\n",
       "      <th>23</th>\n",
       "      <td>8.2</td>\n",
       "    </tr>\n",
       "    <tr>\n",
       "      <th>27</th>\n",
       "      <td>9.6</td>\n",
       "    </tr>\n",
       "    <tr>\n",
       "      <th>21</th>\n",
       "      <td>7.1</td>\n",
       "    </tr>\n",
       "    <tr>\n",
       "      <th>15</th>\n",
       "      <td>4.9</td>\n",
       "    </tr>\n",
       "    <tr>\n",
       "      <th>11</th>\n",
       "      <td>4.0</td>\n",
       "    </tr>\n",
       "  </tbody>\n",
       "</table>\n",
       "</div>"
      ],
      "text/plain": [
       "    YearsExperience\n",
       "12              4.0\n",
       "23              8.2\n",
       "27              9.6\n",
       "21              7.1\n",
       "15              4.9\n",
       "11              4.0"
      ]
     },
     "execution_count": 40,
     "metadata": {},
     "output_type": "execute_result"
    }
   ],
   "source": [
    "x_test\n"
   ]
  },
  {
   "cell_type": "code",
   "execution_count": 41,
   "id": "c4b921ca-0ade-408d-94a6-4dac05abcb0e",
   "metadata": {},
   "outputs": [
    {
     "name": "stderr",
     "output_type": "stream",
     "text": [
      "C:\\Users\\vkdamera\\New folder\\Data Science\\Lib\\site-packages\\sklearn\\base.py:493: UserWarning: X does not have valid feature names, but LinearRegression was fitted with feature names\n",
      "  warnings.warn(\n"
     ]
    },
    {
     "data": {
      "text/plain": [
       "array([137982.2764302])"
      ]
     },
     "execution_count": 41,
     "metadata": {},
     "output_type": "execute_result"
    }
   ],
   "source": [
    "lr.predict ([[12]])\n"
   ]
  },
  {
   "cell_type": "code",
   "execution_count": 42,
   "id": "4cc6529c-7783-4f61-9772-998032b96fc3",
   "metadata": {},
   "outputs": [
    {
     "data": {
      "text/plain": [
       "139284.7922742559"
      ]
     },
     "execution_count": 42,
     "metadata": {},
     "output_type": "execute_result"
    }
   ],
   "source": [
    "9364.5790055*12 +26909.844208255905\n"
   ]
  },
  {
   "cell_type": "code",
   "execution_count": 43,
   "id": "34517b9b-0419-4d73-a7b2-c2808dc9498a",
   "metadata": {},
   "outputs": [
    {
     "name": "stderr",
     "output_type": "stream",
     "text": [
      "C:\\Users\\vkdamera\\New folder\\Data Science\\Lib\\site-packages\\sklearn\\base.py:493: UserWarning: X does not have valid feature names, but LinearRegression was fitted with feature names\n",
      "  warnings.warn(\n"
     ]
    },
    {
     "data": {
      "text/plain": [
       "array([137982.2764302 , 165690.69531827, 119509.99717149])"
      ]
     },
     "execution_count": 43,
     "metadata": {},
     "output_type": "execute_result"
    }
   ],
   "source": [
    "lr.predict ([[12],[15],[10]])\n"
   ]
  },
  {
   "cell_type": "code",
   "execution_count": null,
   "id": "abecbf35-c1ab-4c1c-b8ef-66c86415ce12",
   "metadata": {},
   "outputs": [],
   "source": []
  },
  {
   "cell_type": "code",
   "execution_count": null,
   "id": "c4658e08-92bd-4031-a255-879adf4e5128",
   "metadata": {},
   "outputs": [],
   "source": []
  },
  {
   "cell_type": "code",
   "execution_count": null,
   "id": "21477e7b-62b9-4cba-81b1-34ff80a268d9",
   "metadata": {},
   "outputs": [],
   "source": []
  },
  {
   "cell_type": "code",
   "execution_count": null,
   "id": "963c6a1f-a58b-4c4f-8a86-6ea9153aec75",
   "metadata": {},
   "outputs": [],
   "source": []
  },
  {
   "cell_type": "code",
   "execution_count": null,
   "id": "f14d421b-37b1-47d1-9ef3-1cc9c29e265f",
   "metadata": {},
   "outputs": [],
   "source": []
  },
  {
   "cell_type": "code",
   "execution_count": null,
   "id": "2c5412e6-bac3-4669-8b48-1acebdbeffa3",
   "metadata": {},
   "outputs": [],
   "source": []
  },
  {
   "cell_type": "code",
   "execution_count": null,
   "id": "c8bdcfbf-20c3-4734-9489-909f022f3cd5",
   "metadata": {},
   "outputs": [],
   "source": []
  },
  {
   "cell_type": "code",
   "execution_count": null,
   "id": "b103d5c7-649b-4bb3-9782-6b04dbcdbed9",
   "metadata": {},
   "outputs": [],
   "source": []
  },
  {
   "cell_type": "code",
   "execution_count": null,
   "id": "c3029051-b66d-4ec8-beed-65c8be9ff879",
   "metadata": {},
   "outputs": [],
   "source": []
  },
  {
   "cell_type": "code",
   "execution_count": null,
   "id": "f84f32d7-e335-4f3f-820b-39072d0547d1",
   "metadata": {},
   "outputs": [],
   "source": []
  },
  {
   "cell_type": "code",
   "execution_count": null,
   "id": "5adf5145-372f-42e1-9f57-fdf0b282bcb5",
   "metadata": {},
   "outputs": [],
   "source": []
  },
  {
   "cell_type": "code",
   "execution_count": null,
   "id": "b2ec5ae3-8629-4f8b-a9d4-df644d33beb5",
   "metadata": {},
   "outputs": [],
   "source": []
  },
  {
   "cell_type": "code",
   "execution_count": null,
   "id": "f0d45857-eeac-441b-a827-fb10a0927237",
   "metadata": {},
   "outputs": [],
   "source": []
  },
  {
   "cell_type": "code",
   "execution_count": null,
   "id": "6ca79f98-6d48-4ef4-8425-24907a5b5c78",
   "metadata": {},
   "outputs": [],
   "source": []
  },
  {
   "cell_type": "code",
   "execution_count": null,
   "id": "8cb3b48c-00cf-49e8-9f8a-f5d2faf50e9f",
   "metadata": {},
   "outputs": [],
   "source": []
  },
  {
   "cell_type": "code",
   "execution_count": null,
   "id": "5fcbb1b5-2760-4a8f-a281-f94c84e5b27e",
   "metadata": {},
   "outputs": [],
   "source": []
  },
  {
   "cell_type": "code",
   "execution_count": null,
   "id": "eb82b0d1-da49-47b9-b6e5-720ed5d55816",
   "metadata": {},
   "outputs": [],
   "source": []
  },
  {
   "cell_type": "code",
   "execution_count": null,
   "id": "62d43350-9d59-49af-9069-5d4df211ad66",
   "metadata": {},
   "outputs": [],
   "source": []
  },
  {
   "cell_type": "code",
   "execution_count": null,
   "id": "6132c505-832d-4320-a5dc-fdf2b07e4a3e",
   "metadata": {},
   "outputs": [],
   "source": []
  },
  {
   "cell_type": "code",
   "execution_count": null,
   "id": "13f151a4-c2f7-4b58-87bc-0fc85b19c7da",
   "metadata": {},
   "outputs": [],
   "source": []
  },
  {
   "cell_type": "code",
   "execution_count": null,
   "id": "5cc51c37-ae5a-4769-af0e-e8e4f3881cdc",
   "metadata": {},
   "outputs": [],
   "source": []
  },
  {
   "cell_type": "code",
   "execution_count": null,
   "id": "99762f03-b792-45e8-8637-7e12ca84e93f",
   "metadata": {},
   "outputs": [],
   "source": []
  },
  {
   "cell_type": "code",
   "execution_count": null,
   "id": "b78bcd15-5778-4d8b-896b-bfbf00b6f441",
   "metadata": {},
   "outputs": [],
   "source": []
  },
  {
   "cell_type": "code",
   "execution_count": null,
   "id": "49397d13-a731-4012-af05-d73edb3c97a1",
   "metadata": {},
   "outputs": [],
   "source": []
  },
  {
   "cell_type": "code",
   "execution_count": null,
   "id": "b51031f4-3893-4dc0-987e-898caa5075a7",
   "metadata": {},
   "outputs": [],
   "source": []
  },
  {
   "cell_type": "code",
   "execution_count": null,
   "id": "9ce36aa5-e0b7-4c1c-ac68-c1055d378c0c",
   "metadata": {},
   "outputs": [],
   "source": []
  },
  {
   "cell_type": "code",
   "execution_count": null,
   "id": "db19fe51-8d06-469d-b43c-54258eef7fdd",
   "metadata": {},
   "outputs": [],
   "source": []
  },
  {
   "cell_type": "code",
   "execution_count": null,
   "id": "15c2ce94-03c3-4ceb-9da1-433d86828787",
   "metadata": {},
   "outputs": [],
   "source": []
  },
  {
   "cell_type": "code",
   "execution_count": null,
   "id": "113fac1d-992c-441b-b2b2-7f8b6a52d791",
   "metadata": {},
   "outputs": [],
   "source": []
  },
  {
   "cell_type": "code",
   "execution_count": null,
   "id": "429ac4e4-cdfd-4f0d-a95b-991f6b876983",
   "metadata": {},
   "outputs": [],
   "source": []
  },
  {
   "cell_type": "code",
   "execution_count": null,
   "id": "15c85baf-7e1a-4989-a870-f1b4de8601ec",
   "metadata": {},
   "outputs": [],
   "source": []
  },
  {
   "cell_type": "code",
   "execution_count": null,
   "id": "1f224624-2d11-461a-b685-5cba9fefb665",
   "metadata": {},
   "outputs": [],
   "source": []
  },
  {
   "cell_type": "code",
   "execution_count": null,
   "id": "6e31998a-de4a-4710-84cf-28908e3b8c8e",
   "metadata": {},
   "outputs": [],
   "source": []
  },
  {
   "cell_type": "code",
   "execution_count": null,
   "id": "76a374a5-5701-4b23-811f-681b3705b233",
   "metadata": {},
   "outputs": [],
   "source": []
  },
  {
   "cell_type": "code",
   "execution_count": null,
   "id": "34df35af-4d84-4cde-b867-543356dce440",
   "metadata": {},
   "outputs": [],
   "source": []
  }
 ],
 "metadata": {
  "kernelspec": {
   "display_name": "Python 3 (ipykernel)",
   "language": "python",
   "name": "python3"
  },
  "language_info": {
   "codemirror_mode": {
    "name": "ipython",
    "version": 3
   },
   "file_extension": ".py",
   "mimetype": "text/x-python",
   "name": "python",
   "nbconvert_exporter": "python",
   "pygments_lexer": "ipython3",
   "version": "3.12.4"
  }
 },
 "nbformat": 4,
 "nbformat_minor": 5
}
